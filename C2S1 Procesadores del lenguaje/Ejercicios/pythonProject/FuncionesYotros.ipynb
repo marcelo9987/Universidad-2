{
 "cells": [
  {
   "cell_type": "code",
   "id": "initial_id",
   "metadata": {
    "collapsed": true,
    "ExecuteTime": {
     "end_time": "2024-10-08T18:05:22.520018Z",
     "start_time": "2024-10-08T18:05:22.514978Z"
    }
   },
   "source": [
    "def num2bin(numero):\n",
    "    numerocache=0\n",
    "    posicion=0\n",
    "\n",
    "    while numero>0:\n",
    "        numerocache += (numero%2)* 10**posicion\n",
    "        numero=numero//2\n",
    "        posicion+=1\n",
    "    \n",
    "    \n",
    "    return numerocache\n",
    "    \n",
    "        "
   ],
   "outputs": [],
   "execution_count": 123
  },
  {
   "metadata": {
    "ExecuteTime": {
     "end_time": "2024-10-08T18:05:24.147710Z",
     "start_time": "2024-10-08T18:05:24.126359Z"
    }
   },
   "cell_type": "code",
   "source": [
    "assert(num2bin(0)   ==      '0')\n",
    "assert(num2bin(1)   ==      '1')\n",
    "assert(num2bin(2)   ==      '10')\n",
    "assert(num2bin(3)   ==      '11')\n",
    "assert(num2bin(4)   ==      '100')\n",
    "assert(num2bin(5)   ==      '101')\n",
    "assert(num2bin(6)   ==      '110')\n",
    "assert(num2bin(7) == '111')\n",
    "assert(num2bin(12) == '1100')\n",
    "assert(num2bin(13) == '1101')\n",
    "assert(num2bin(20) == '10100')"
   ],
   "id": "94cbdd2c5134f6c9",
   "outputs": [
    {
     "ename": "AssertionError",
     "evalue": "",
     "output_type": "error",
     "traceback": [
      "\u001B[1;31m---------------------------------------------------------------------------\u001B[0m",
      "\u001B[1;31mAssertionError\u001B[0m                            Traceback (most recent call last)",
      "Cell \u001B[1;32mIn[124], line 1\u001B[0m\n\u001B[1;32m----> 1\u001B[0m \u001B[38;5;28;01massert\u001B[39;00m(num2bin(\u001B[38;5;241m0\u001B[39m)   \u001B[38;5;241m==\u001B[39m      \u001B[38;5;124m'\u001B[39m\u001B[38;5;124m0\u001B[39m\u001B[38;5;124m'\u001B[39m)\n\u001B[0;32m      2\u001B[0m \u001B[38;5;28;01massert\u001B[39;00m(num2bin(\u001B[38;5;241m1\u001B[39m)   \u001B[38;5;241m==\u001B[39m      \u001B[38;5;124m'\u001B[39m\u001B[38;5;124m1\u001B[39m\u001B[38;5;124m'\u001B[39m)\n\u001B[0;32m      3\u001B[0m \u001B[38;5;28;01massert\u001B[39;00m(num2bin(\u001B[38;5;241m2\u001B[39m)   \u001B[38;5;241m==\u001B[39m      \u001B[38;5;124m'\u001B[39m\u001B[38;5;124m10\u001B[39m\u001B[38;5;124m'\u001B[39m)\n",
      "\u001B[1;31mAssertionError\u001B[0m: "
     ]
    }
   ],
   "execution_count": 124
  },
  {
   "metadata": {},
   "cell_type": "markdown",
   "source": "",
   "id": "26a03c6f88bf3864"
  },
  {
   "metadata": {
    "ExecuteTime": {
     "end_time": "2024-10-08T18:04:12.710560Z",
     "start_time": "2024-10-08T18:04:12.703874Z"
    }
   },
   "cell_type": "code",
   "source": "num2bin(20)",
   "id": "fb0e03e845a45cf7",
   "outputs": [
    {
     "data": {
      "text/plain": [
       "'10011101110100'"
      ]
     },
     "execution_count": 121,
     "metadata": {},
     "output_type": "execute_result"
    }
   ],
   "execution_count": 121
  },
  {
   "metadata": {
    "ExecuteTime": {
     "end_time": "2024-10-08T18:04:22.715416Z",
     "start_time": "2024-10-08T18:04:22.710467Z"
    }
   },
   "cell_type": "code",
   "source": "0o10011101110100",
   "id": "4240dfa434e1375",
   "outputs": [
    {
     "data": {
      "text/plain": [
       "550980849728"
      ]
     },
     "execution_count": 122,
     "metadata": {},
     "output_type": "execute_result"
    }
   ],
   "execution_count": 122
  }
 ],
 "metadata": {
  "kernelspec": {
   "display_name": "Python 3",
   "language": "python",
   "name": "python3"
  },
  "language_info": {
   "codemirror_mode": {
    "name": "ipython",
    "version": 2
   },
   "file_extension": ".py",
   "mimetype": "text/x-python",
   "name": "python",
   "nbconvert_exporter": "python",
   "pygments_lexer": "ipython2",
   "version": "2.7.6"
  }
 },
 "nbformat": 4,
 "nbformat_minor": 5
}
