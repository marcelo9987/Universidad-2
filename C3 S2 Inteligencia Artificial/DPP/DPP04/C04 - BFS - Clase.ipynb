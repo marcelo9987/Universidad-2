{
 "cells": [
  {
   "cell_type": "code",
   "execution_count": 1,
   "id": "ab5f1cd5",
   "metadata": {},
   "outputs": [],
   "source": [
    "import numpy as np\n",
    "import pandas as pd\n",
    "from queue import Queue\n",
    "import networkx as nx\n",
    "import plotly.graph_objects as go\n",
    "import time\n",
    "from memory_profiler import profile, memory_usage\n",
    "from matplotlib import pyplot as plt\n",
    "from PIL import Image"
   ]
  },
  {
   "cell_type": "code",
   "execution_count": 2,
   "id": "fa5e5a1e-4a90-45b8-a15e-3f3d0a656121",
   "metadata": {},
   "outputs": [
    {
     "data": {
      "text/plain": [
       "(201, 201)"
      ]
     },
     "execution_count": 2,
     "metadata": {},
     "output_type": "execute_result"
    }
   ],
   "source": [
    "grid_original = np.asarray(pd.read_csv('./labyrinth.csv').iloc[:, 1:])\n",
    "\n",
    "grid_original.shape"
   ]
  },
  {
   "cell_type": "code",
   "execution_count": 3,
   "id": "f8d3079c-21e7-4927-a5a8-b41fc8ff0f72",
   "metadata": {},
   "outputs": [
    {
     "data": {
      "text/plain": [
       "((35, 0), (41, 200))"
      ]
     },
     "execution_count": 3,
     "metadata": {},
     "output_type": "execute_result"
    }
   ],
   "source": [
    "initial_position = np.asarray(pd.read_csv('./initial_position.csv').iloc[:, 1:])[:, 0]\n",
    "last_position = np.asarray(pd.read_csv('./last_position.csv').iloc[:, 1:])[:, 0]\n",
    "\n",
    "initial_position = (initial_position[0], initial_position[1])\n",
    "last_position = (last_position[0], last_position[1])\n",
    "\n",
    "initial_position, last_position"
   ]
  },
  {
   "cell_type": "code",
   "execution_count": 4,
   "id": "bcee7925",
   "metadata": {},
   "outputs": [],
   "source": [
    "initial_grid = grid_original.copy()\n",
    "initial_grid[initial_position[0], initial_position[1]] = 'X'\n",
    "\n",
    "objective_grid = grid_original.copy()\n",
    "objective_grid[last_position[0], last_position[1]] = 'X'"
   ]
  },
  {
   "cell_type": "code",
   "execution_count": 5,
   "id": "044a6817",
   "metadata": {},
   "outputs": [],
   "source": [
    "operations = [\n",
    "                [ 0, -1], #left\n",
    "                [-1,  0], #up\n",
    "                [ 1,  0], #down\n",
    "                [ 0,  1] #right\n",
    "             ]"
   ]
  },
  {
   "cell_type": "code",
   "execution_count": 6,
   "id": "4b4d9c5b",
   "metadata": {},
   "outputs": [],
   "source": [
    "class Node:\n",
    "    def __init__(self, value, parent=None):\n",
    "        self.value = value\n",
    "        self.children = []\n",
    "        self.parent = parent\n",
    "\n",
    "    def add_child(self, child):\n",
    "        node = Node(child, parent=self)\n",
    "        self.children.append(node)\n",
    "        return node\n",
    "\n",
    "class Tree:\n",
    "    def __init__(self, root):\n",
    "        self.root = root\n",
    "         \n",
    "def find_path_to_root(objective_node):\n",
    "    path = []\n",
    "    current_node = objective_node\n",
    "    while current_node is not None:\n",
    "        path.insert(0, current_node.value)\n",
    "        current_node = current_node.parent\n",
    "    return path"
   ]
  },
  {
   "cell_type": "code",
   "execution_count": 7,
   "id": "ee2580a3",
   "metadata": {},
   "outputs": [],
   "source": [
    "def generate_children(grid, operations, position):\n",
    "    def change_position(operation):\n",
    "        if grid[position[0] + operation[0], position[1] + operation[1]] != '#':\n",
    "            return (position[0] + operation[0], position[1] + operation[1])\n",
    "        \n",
    "        else:\n",
    "            return None\n",
    "    \n",
    "    children = []\n",
    "    grid[position[0], position[1]] = 'X'\n",
    "    \n",
    "    '''\n",
    "        Left\n",
    "    '''\n",
    "    if position[1] != 0:\n",
    "        new_position = change_position(operations[0])\n",
    "        \n",
    "        if new_position is not None:\n",
    "            children.append(new_position)\n",
    "    \n",
    "    '''\n",
    "        Up\n",
    "    '''\n",
    "    if position[0] != 0:\n",
    "        new_position = change_position(operations[1])\n",
    "        \n",
    "        if new_position is not None:\n",
    "            children.append(new_position)\n",
    "        \n",
    "    '''\n",
    "        Down\n",
    "    '''\n",
    "    if position[0] != grid.shape[0] - 1:\n",
    "        new_position = change_position(operations[2])\n",
    "        \n",
    "        if new_position is not None:\n",
    "            children.append(new_position)\n",
    "        \n",
    "    '''\n",
    "        Right\n",
    "    '''\n",
    "    if position[1] != grid.shape[1] - 1:\n",
    "        new_position = change_position(operations[3])\n",
    "        \n",
    "        if new_position is not None:\n",
    "            children.append(new_position)\n",
    "        \n",
    "    return children"
   ]
  },
  {
   "cell_type": "code",
   "execution_count": 8,
   "id": "0b02fc67",
   "metadata": {},
   "outputs": [],
   "source": [
    "def construct_solution_BFS_labyrinth(tree):\n",
    "    nodes_to_expand = Queue()\n",
    "    nodes_to_expand.put(tree.root)\n",
    "    visited_nodes = []\n",
    "\n",
    "    found = False\n",
    "    path = []\n",
    "\n",
    "    while not found:\n",
    "        current_node = nodes_to_expand.get()\n",
    "        current_position = current_node.value\n",
    "\n",
    "        visited_nodes.append(current_position)\n",
    "        children = generate_children(grid, operations, current_position)\n",
    "        \n",
    "        for c in children:\n",
    "            if c not in visited_nodes:\n",
    "                child = current_node.add_child(c)\n",
    "                nodes_to_expand.put(child)\n",
    "\n",
    "                if np.array_equal(c, last_position):\n",
    "                    found = True\n",
    "                    path = find_path_to_root(child)\n",
    "                    visited_nodes.append(last_position)\n",
    "                    break\n",
    "                    \n",
    "    return tree, path, visited_nodes"
   ]
  },
  {
   "cell_type": "code",
   "execution_count": 9,
   "id": "be41a0c2",
   "metadata": {},
   "outputs": [],
   "source": [
    "grid = initial_grid.copy()"
   ]
  },
  {
   "cell_type": "code",
   "execution_count": 10,
   "id": "57faae21",
   "metadata": {},
   "outputs": [
    {
     "data": {
      "text/plain": [
       "7.208009719848633"
      ]
     },
     "execution_count": 10,
     "metadata": {},
     "output_type": "execute_result"
    }
   ],
   "source": [
    "start_time = time.time()\n",
    "\n",
    "root = Tree(Node(initial_position))\n",
    "tree, solution_path, visited_nodes = construct_solution_BFS_labyrinth(root)\n",
    "\n",
    "time.time() - start_time"
   ]
  },
  {
   "cell_type": "code",
   "execution_count": 11,
   "id": "884d9c1d",
   "metadata": {},
   "outputs": [],
   "source": [
    "#solution_path"
   ]
  },
  {
   "cell_type": "code",
   "execution_count": 12,
   "id": "fe0b3ae5",
   "metadata": {},
   "outputs": [],
   "source": [
    "def movements_to_solution(solution_path):\n",
    "    movements = []\n",
    "    operations = { (0, -1):'left', (-1, 0): 'up', (1, 0): 'down', (0, 1): 'right' }\n",
    "    \n",
    "    for i in range(len(solution_path) - 1):\n",
    "        position_1 = solution_path[i]\n",
    "        position_2 = solution_path[i + 1]\n",
    "    \n",
    "        movements.append(operations[((position_2[0] - position_1[0]),(position_2[1] - position_1[1]))])\n",
    "        \n",
    "    return movements"
   ]
  },
  {
   "cell_type": "code",
   "execution_count": 13,
   "id": "2cdc93c2",
   "metadata": {},
   "outputs": [],
   "source": [
    "movements = movements_to_solution(solution_path)"
   ]
  },
  {
   "cell_type": "code",
   "execution_count": 14,
   "id": "d45cba11-d61f-4720-9696-f13a0972c462",
   "metadata": {},
   "outputs": [],
   "source": [
    "#movements"
   ]
  },
  {
   "cell_type": "code",
   "execution_count": null,
   "id": "56766017-2792-46ea-9d43-a35ac77f1ee4",
   "metadata": {},
   "outputs": [],
   "source": []
  }
 ],
 "metadata": {
  "kernelspec": {
   "display_name": "Python 3 (ipykernel)",
   "language": "python",
   "name": "python3"
  },
  "language_info": {
   "codemirror_mode": {
    "name": "ipython",
    "version": 3
   },
   "file_extension": ".py",
   "mimetype": "text/x-python",
   "name": "python",
   "nbconvert_exporter": "python",
   "pygments_lexer": "ipython3",
   "version": "3.11.5"
  }
 },
 "nbformat": 4,
 "nbformat_minor": 5
}
