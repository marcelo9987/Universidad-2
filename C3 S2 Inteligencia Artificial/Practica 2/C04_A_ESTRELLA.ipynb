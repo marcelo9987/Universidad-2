{
 "cells": [
  {
   "cell_type": "code",
   "id": "initial_id",
   "metadata": {
    "collapsed": true,
    "ExecuteTime": {
     "end_time": "2025-03-18T22:52:58.818747Z",
     "start_time": "2025-03-18T22:52:58.810933Z"
    }
   },
   "source": "debug = False",
   "outputs": [],
   "execution_count": 1
  },
  {
   "metadata": {
    "ExecuteTime": {
     "end_time": "2025-03-18T22:52:59.597610Z",
     "start_time": "2025-03-18T22:52:58.859326Z"
    }
   },
   "cell_type": "code",
   "source": [
    "import numpy as np\n",
    "import pandas as pd\n",
    "from heapq import heappush, heappop\n",
    "import time"
   ],
   "id": "1f1e137cefdaebc9",
   "outputs": [],
   "execution_count": 2
  },
  {
   "metadata": {
    "ExecuteTime": {
     "end_time": "2025-03-18T22:52:59.723193Z",
     "start_time": "2025-03-18T22:52:59.705569Z"
    }
   },
   "cell_type": "code",
   "source": [
    "initial_position = list(pd.read_csv('./inicial_medium.csv', delimiter=';', header=None).values[0])\n",
    "\n",
    "# posicion(0,1)\n",
    "initial_position[1] = initial_position[1].replace(' ', '')\n",
    "initial_position"
   ],
   "id": "9337c63ca3a011b5",
   "outputs": [
    {
     "data": {
      "text/plain": [
       "['OOOLLL', '', 'I']"
      ]
     },
     "execution_count": 3,
     "metadata": {},
     "output_type": "execute_result"
    }
   ],
   "execution_count": 3
  },
  {
   "metadata": {
    "ExecuteTime": {
     "end_time": "2025-03-18T22:52:59.749673Z",
     "start_time": "2025-03-18T22:52:59.733701Z"
    }
   },
   "cell_type": "code",
   "source": "pd.read_csv('./inicial_medium.csv', delimiter=';', header=None)",
   "id": "f6fa35dd7846d969",
   "outputs": [
    {
     "data": {
      "text/plain": [
       "        0  1  2\n",
       "0  OOOLLL     I"
      ],
      "text/html": [
       "<div>\n",
       "<style scoped>\n",
       "    .dataframe tbody tr th:only-of-type {\n",
       "        vertical-align: middle;\n",
       "    }\n",
       "\n",
       "    .dataframe tbody tr th {\n",
       "        vertical-align: top;\n",
       "    }\n",
       "\n",
       "    .dataframe thead th {\n",
       "        text-align: right;\n",
       "    }\n",
       "</style>\n",
       "<table border=\"1\" class=\"dataframe\">\n",
       "  <thead>\n",
       "    <tr style=\"text-align: right;\">\n",
       "      <th></th>\n",
       "      <th>0</th>\n",
       "      <th>1</th>\n",
       "      <th>2</th>\n",
       "    </tr>\n",
       "  </thead>\n",
       "  <tbody>\n",
       "    <tr>\n",
       "      <th>0</th>\n",
       "      <td>OOOLLL</td>\n",
       "      <td></td>\n",
       "      <td>I</td>\n",
       "    </tr>\n",
       "  </tbody>\n",
       "</table>\n",
       "</div>"
      ]
     },
     "execution_count": 4,
     "metadata": {},
     "output_type": "execute_result"
    }
   ],
   "execution_count": 4
  },
  {
   "metadata": {
    "ExecuteTime": {
     "end_time": "2025-03-18T22:52:59.809129Z",
     "start_time": "2025-03-18T22:52:59.804963Z"
    }
   },
   "cell_type": "code",
   "source": [
    "operations = [\n",
    "    'O',  #oveja\n",
    "    'L',  #lobo\n",
    "    'OO',  #ovejas\n",
    "    'OL',  #lobo y oveja\n",
    "    'LL'  #lobos\n",
    "]"
   ],
   "id": "e8fa5696f7571882",
   "outputs": [],
   "execution_count": 5
  },
  {
   "metadata": {
    "ExecuteTime": {
     "end_time": "2025-03-18T22:52:59.880193Z",
     "start_time": "2025-03-18T22:52:59.873187Z"
    }
   },
   "cell_type": "code",
   "source": [
    "class Node:\n",
    "    def __init__(self, value, parent=None):\n",
    "        self.coste = None\n",
    "        self.value = value\n",
    "        self.children = []\n",
    "        self.parent = parent\n",
    "\n",
    "    def add_child(self, child, coste = None):\n",
    "        node = Node(child, parent=self)\n",
    "        if coste is not None:\n",
    "            node.coste = coste\n",
    "        self.children.append(node)\n",
    "        return node\n",
    "\n",
    "    def __eq__(self, other):\n",
    "        return self.coste == other.coste\n",
    "\n",
    "    def __ne__(self, other):\n",
    "        return not (self == other)\n",
    "\n",
    "    def __lt__(self, other):\n",
    "        return self.coste < other.coste\n",
    "\n",
    "    def __gt__(self, other):\n",
    "        return self.coste > other.coste\n",
    "\n",
    "    def __le__(self, other):\n",
    "        return self.coste <= other.coste\n",
    "\n",
    "    def __ge__(self, other):\n",
    "        return self.coste >= other.coste\n",
    "\n",
    "\n",
    "class Tree:\n",
    "    def __init__(self, root):\n",
    "        self.root = root\n",
    "\n",
    "\n",
    "def find_path_to_root(objective_node):\n",
    "    path = []\n",
    "    current_node = objective_node\n",
    "    while current_node is not None:\n",
    "        path.insert(0, current_node.value)\n",
    "        current_node = current_node.parent\n",
    "    return path"
   ],
   "id": "5b89bb414f15cfc5",
   "outputs": [],
   "execution_count": 6
  },
  {
   "metadata": {
    "ExecuteTime": {
     "end_time": "2025-03-18T22:52:59.978367Z",
     "start_time": "2025-03-18T22:52:59.963359Z"
    }
   },
   "cell_type": "code",
   "source": [
    "def generate_children(estado, conjunto_de_operaciones):\n",
    "    \"\"\"\n",
    "    Método que genera los posibles hijos de un estado dado\n",
    "    Args:\n",
    "        estado: Situación del problema.\n",
    "        conjunto_de_operaciones: Operaciones que se pueden realizar\n",
    "\n",
    "    Returns: Lista de posibles hijos (estados derivados del estado actual)\n",
    "\n",
    "    \"\"\"\n",
    "    def change_position(operacion):\n",
    "        \"\"\"\n",
    "        Método que cambia la posición de la barca\n",
    "        Args:\n",
    "            operacion: Animales que se quieren mover\n",
    "\n",
    "        Returns: Nuevo estado del problema (animales a ambos lados y posición de la barca)\n",
    "\n",
    "\n",
    "        \"\"\"\n",
    "        position = estado[2]\n",
    "        if position == 'I':\n",
    "            # Comprobar disponibilidad de animales. Si en el origen (actual) hay mas o mismos animales que los que se quieren mover se puede realizar la operación\n",
    "            if all(estado[0].count(char) >= operacion.count(char) for char in set(operacion)):\n",
    "                nueva_cadena_izquierda = estado[0]\n",
    "                for char in operacion:\n",
    "                    nueva_cadena_izquierda = nueva_cadena_izquierda.replace(char, '', 1)\n",
    "                nuevo_destino_derecha = estado[1]\n",
    "            else:\n",
    "                if debug: print(\"No se puede realizar la operación {0} {1} {2}\".format(estado, operacion, position))\n",
    "                return None\n",
    "        else:\n",
    "            if all(estado[1].count(char) >= operacion.count(char) for char in set(operacion)):\n",
    "                nueva_cadena_izquierda = estado[1]\n",
    "                for char in operacion:\n",
    "                    nueva_cadena_izquierda = nueva_cadena_izquierda.replace(char, '', 1)\n",
    "                nuevo_destino_derecha = estado[0]\n",
    "            else:\n",
    "                if debug: print(\"No se puede realizar la operación {0} {1} {2}\".format(estado, operacion, position))\n",
    "                return None\n",
    "\n",
    "        nuevo_destino_derecha = ''.join(sorted(nuevo_destino_derecha + operacion, reverse=True))\n",
    "\n",
    "        # Comprobar estado válido\n",
    "        if nueva_cadena_izquierda.count('L') > nueva_cadena_izquierda.count('O') > 0:\n",
    "            return None\n",
    "        if nuevo_destino_derecha.count('L') > nuevo_destino_derecha.count('O') > 0:\n",
    "            return None\n",
    "\n",
    "        # print(\"estado válido: \",nuevaCadena, ''.join(sorted(nuevoDestino + operation, reverse=True)), position)\n",
    "\n",
    "        if position == 'I':\n",
    "            return np.asarray([nueva_cadena_izquierda, nuevo_destino_derecha, 'D'])\n",
    "        else:\n",
    "            return np.asarray([nuevo_destino_derecha, nueva_cadena_izquierda, 'I'])\n",
    "\n",
    "    children = []\n",
    "\n",
    "    for op in conjunto_de_operaciones:\n",
    "        new_position = change_position(op)\n",
    "        if new_position is not None:\n",
    "            children.append(new_position)\n",
    "\n",
    "    return children"
   ],
   "id": "73c65fb209139486",
   "outputs": [],
   "execution_count": 7
  },
  {
   "metadata": {
    "ExecuteTime": {
     "end_time": "2025-03-18T22:53:00.093400Z",
     "start_time": "2025-03-18T22:53:00.084948Z"
    }
   },
   "cell_type": "code",
   "source": [
    "def movements_to_solution(solution_path):\n",
    "    pasos = []\n",
    "\n",
    "    for i in range(len(solution_path) - 1):\n",
    "        estado_actual = solution_path[i]\n",
    "        estado_siguiente = solution_path[i + 1]\n",
    "\n",
    "        # Descubrir la dirección de la barca\n",
    "        direccion = \"-->\" if estado_actual[2] == 'I' else \"<--\"\n",
    "\n",
    "        # Descubrir qué animales se movieron\n",
    "        if estado_actual[2] == 'I':\n",
    "            # Animales desplazados de izquierda a derecha\n",
    "            origen_antes = estado_actual[0]\n",
    "            origen_despues = estado_siguiente[0]\n",
    "\n",
    "            # Calcular diferencias\n",
    "            ovejas_movidas = origen_antes.count('O') - origen_despues.count('O')\n",
    "            lobos_movidos = origen_antes.count('L') - origen_despues.count('L')\n",
    "        else:\n",
    "            # Animales desplazados de derecha a izquierda\n",
    "            origen_antes = estado_actual[1]\n",
    "            origen_despues = estado_siguiente[1]\n",
    "\n",
    "            ovejas_movidas = origen_antes.count('O') - origen_despues.count('O')\n",
    "            lobos_movidos = origen_antes.count('L') - origen_despues.count('L')\n",
    "\n",
    "        moved_animals = []\n",
    "        if ovejas_movidas == 1:\n",
    "            moved_animals.append(\"oveja\")\n",
    "        elif ovejas_movidas > 1:\n",
    "            moved_animals.append(f\"{ovejas_movidas} ovejas\")\n",
    "\n",
    "        if lobos_movidos == 1:\n",
    "            moved_animals.append(\"lobo\")\n",
    "        elif lobos_movidos > 1:\n",
    "            moved_animals.append(f\"{lobos_movidos} lobos\")\n",
    "\n",
    "        pasos.append(\n",
    "            \"|\".join(estado_actual[:2])\n",
    "            + \"|\" + f\"{', '.join(moved_animals)} {direccion}\")\n",
    "\n",
    "    return pasos"
   ],
   "id": "d5410686db7c7f26",
   "outputs": [],
   "execution_count": 8
  },
  {
   "metadata": {},
   "cell_type": "markdown",
   "source": "## A*",
   "id": "91be55a2e2aa940b"
  },
  {
   "metadata": {
    "ExecuteTime": {
     "end_time": "2025-03-18T23:02:49.076990Z",
     "start_time": "2025-03-18T23:02:49.070973Z"
    }
   },
   "cell_type": "code",
   "source": [
    "def heuristico(estado):\n",
    "    #     \"\"\"\n",
    "    #     Método que calcula el valor heurístico de un estado\n",
    "    #     Args:\n",
    "    #         estado: Estado del problema\n",
    "    #\n",
    "    #     Returns: Valor heurístico del estado ( en este caso, número de animales en la orilla izquierda)\n",
    "    #\n",
    "    #     \"\"\"\n",
    "    num_ovejas = estado[0].count('O')\n",
    "    num_lobos = estado[0].count('L')\n",
    "    lado_barca = estado[2] == 'I'\n",
    "    # return (num_ovejas + num_lobos) + ( 1 - lado_barca) * 1/4\n",
    "    return (num_ovejas + num_lobos) / 2"
   ],
   "id": "f656ac5cefa00021",
   "outputs": [],
   "execution_count": 38
  },
  {
   "metadata": {
    "ExecuteTime": {
     "end_time": "2025-03-18T22:58:55.167145Z",
     "start_time": "2025-03-18T22:58:55.161127Z"
    }
   },
   "cell_type": "code",
   "source": [
    "def es_objetivo(estado):\n",
    "    return estado[0] == \"\""
   ],
   "id": "af887dda3658e214",
   "outputs": [],
   "execution_count": 27
  },
  {
   "metadata": {
    "ExecuteTime": {
     "end_time": "2025-03-18T22:58:55.311751Z",
     "start_time": "2025-03-18T22:58:55.302752Z"
    }
   },
   "cell_type": "code",
   "source": [
    "def construct_solution_a_estrella_river(tree):\n",
    "    nodos_a_expandir = []\n",
    "    heappush(nodos_a_expandir, (0, tree.root))\n",
    "    nodos_visitados = set()\n",
    "\n",
    "\n",
    "    while nodos_a_expandir:\n",
    "        # current_node = heappop(nodos_a_expandir)\n",
    "        _, current_node = heappop(nodos_a_expandir)\n",
    "        current_position = current_node.value\n",
    "\n",
    "        if tuple(current_position) in nodos_visitados:\n",
    "            continue\n",
    "\n",
    "        nodos_visitados.add(tuple(current_position))\n",
    "\n",
    "        if es_objetivo(current_position):\n",
    "            current_node = current_node.add_child(current_position)\n",
    "            return tree, find_path_to_root(current_node), list(nodos_visitados)\n",
    "\n",
    "        g = len(find_path_to_root(current_node)) - 1\n",
    "\n",
    "\n",
    "        children = generate_children(current_position, operations)\n",
    "\n",
    "        for c in children:\n",
    "            if debug: print(c)\n",
    "            if tuple(c) not in nodos_visitados:\n",
    "                if debug: print(c)\n",
    "                g_hijo = g + 1\n",
    "                f = g_hijo + heuristico(c)\n",
    "\n",
    "                if debug: print(\"para el nodo  {0} el valor de f es {1}\".format(c, f))\n",
    "                # hijo_completo = np.append(c, f)\n",
    "                child = current_node.add_child(c,f)\n",
    "                # nodos_a_expandir.put(child)\n",
    "                # heappush(nodos_a_expandir, (child.coste,child))\n",
    "                heappush(nodos_a_expandir, (f, child))\n",
    "\n",
    "                # if es_objetivo(c):\n",
    "                #     found = True\n",
    "                #     path = find_path_to_root(child)\n",
    "                #     break\n",
    "\n",
    "    return tree, [], list(nodos_visitados)"
   ],
   "id": "91ddd10141afa60a",
   "outputs": [],
   "execution_count": 28
  },
  {
   "metadata": {
    "ExecuteTime": {
     "end_time": "2025-03-18T22:58:55.389007Z",
     "start_time": "2025-03-18T22:58:55.378621Z"
    }
   },
   "cell_type": "code",
   "source": [
    "start_time = time.time()\n",
    "\n",
    "root = Tree(Node(initial_position))\n",
    "arbol_obtenido, camino, nodos = construct_solution_a_estrella_river(root)\n",
    "\n",
    "time.time() - start_time"
   ],
   "id": "8010138657e6de50",
   "outputs": [
    {
     "data": {
      "text/plain": [
       "0.001998424530029297"
      ]
     },
     "execution_count": 29,
     "metadata": {},
     "output_type": "execute_result"
    }
   ],
   "execution_count": 29
  },
  {
   "metadata": {
    "ExecuteTime": {
     "end_time": "2025-03-18T22:58:55.497722Z",
     "start_time": "2025-03-18T22:58:55.487665Z"
    }
   },
   "cell_type": "code",
   "source": [
    "\n",
    "movements = movements_to_solution(camino)\n",
    "\n",
    "print(\" La solución se obtuvo en {0} + 1 pasos:\".format(len(movements)-1))\n",
    "\n",
    "movements"
   ],
   "id": "ca92e147df967f72",
   "outputs": [
    {
     "name": "stdout",
     "output_type": "stream",
     "text": [
      " La solución se obtuvo en 11 + 1 pasos:\n"
     ]
    },
    {
     "data": {
      "text/plain": [
       "['OOOLLL||oveja, lobo -->',\n",
       " 'OOLL|OL|oveja <--',\n",
       " 'OOOLL|L|2 lobos -->',\n",
       " 'OOO|LLL|lobo <--',\n",
       " 'OOOL|LL|2 ovejas -->',\n",
       " 'OL|OOLL|oveja, lobo <--',\n",
       " 'OOLL|OL|2 ovejas -->',\n",
       " 'LL|OOOL|lobo <--',\n",
       " 'LLL|OOO|2 lobos -->',\n",
       " 'L|OOOLL|oveja <--',\n",
       " 'OL|OOLL|oveja, lobo -->',\n",
       " '|OOOLLL| <--']"
      ]
     },
     "execution_count": 30,
     "metadata": {},
     "output_type": "execute_result"
    }
   ],
   "execution_count": 30
  },
  {
   "metadata": {
    "ExecuteTime": {
     "end_time": "2025-03-18T22:58:55.635153Z",
     "start_time": "2025-03-18T22:58:55.631173Z"
    }
   },
   "cell_type": "code",
   "source": "",
   "id": "611eac9855f0c7a8",
   "outputs": [],
   "execution_count": null
  },
  {
   "metadata": {
    "ExecuteTime": {
     "end_time": "2025-03-18T22:58:55.753916Z",
     "start_time": "2025-03-18T22:58:55.743751Z"
    }
   },
   "cell_type": "code",
   "source": [
    "import time\n",
    "\n",
    "\n",
    "def medir_tiempo(algoritmo, posicion_inicial_testbench, numero_de_ejecuciones=100000):\n",
    "    _debug=False\n",
    "    tiempos = []\n",
    "    for _ in range(numero_de_ejecuciones) :\n",
    "        inicio = time.perf_counter()  # Tiempo inicial\n",
    "        _root = Tree(Node(posicion_inicial_testbench))\n",
    "        _arbol_obtenido, _camino, _nodos = algoritmo(_root)\n",
    "        fin = time.perf_counter()  # Tiempo final\n",
    "        tempo = fin - inicio  # Tiempo total\n",
    "        tiempos.append(tempo)\n",
    "\n",
    "    media = np.mean(tiempos)\n",
    "    minimo = np.min(tiempos)\n",
    "    maximo = np.max(tiempos)\n",
    "\n",
    "    unidad_de_escalado = 1000 # 1 segundo = 1000 milisegundos\n",
    "\n",
    "    return media * unidad_de_escalado, minimo * unidad_de_escalado, maximo * unidad_de_escalado"
   ],
   "id": "be4a940d5a5053aa",
   "outputs": [],
   "execution_count": 31
  },
  {
   "metadata": {
    "ExecuteTime": {
     "end_time": "2025-03-18T22:59:43.540770Z",
     "start_time": "2025-03-18T22:58:56.125664Z"
    }
   },
   "cell_type": "code",
   "source": [
    "datos_A_estrella = medir_tiempo(construct_solution_a_estrella_river, initial_position)\n",
    "print(\"Algoritmo | Media {0: <10}| Mínimo {0: <9}| Máximo {0: <10} |\".format(\" \"))\n",
    "print(\"A*        | {0:.10f} ms | {1:.10f} ms | {2:.10f} ms  |\".format(datos_A_estrella[0], datos_A_estrella[1], datos_A_estrella[2]))"
   ],
   "id": "b2bac646bb143023",
   "outputs": [
    {
     "name": "stdout",
     "output_type": "stream",
     "text": [
      "Algoritmo | Media           | Mínimo          | Máximo            |\n",
      "A*        | 0.4733392390 ms | 0.4056000034 ms | 65.5635000003 ms  |\n"
     ]
    }
   ],
   "execution_count": 32
  },
  {
   "metadata": {
    "ExecuteTime": {
     "end_time": "2025-03-18T23:02:53.231722Z",
     "start_time": "2025-03-18T23:02:53.215643Z"
    }
   },
   "cell_type": "code",
   "source": [
    "def medir_nodos_generados(algoritmo, posicion_inicial_testbench, numero_de_ejecuciones=100000):\n",
    "    \"\"\"\n",
    "    Mide el número de nodos generados de un algoritmo (BFS o A*).\n",
    "\n",
    "    Args:\n",
    "        algoritmo: Función del algoritmo a medir (construct_solution_BFS_river o construct_solution_a_estrella_river).\n",
    "        posicion_inicial_testbench: Estado inicial do problema.\n",
    "\n",
    "    Returns:\n",
    "        nodos: Número de nodos generados.\n",
    "    \"\"\"\n",
    "    nodos = []\n",
    "    for _ in range(numero_de_ejecuciones) :\n",
    "        _root = Tree(Node(posicion_inicial_testbench))\n",
    "        _arbol_obtenido, _camino, _nodos = algoritmo(_root)\n",
    "        nodos.append(len(_nodos))\n",
    "\n",
    "    return np.mean(nodos)"
   ],
   "id": "146839a6e0c9b4b",
   "outputs": [],
   "execution_count": 39
  },
  {
   "metadata": {
    "ExecuteTime": {
     "end_time": "2025-03-18T23:04:45.567699Z",
     "start_time": "2025-03-18T23:03:49.316407Z"
    }
   },
   "cell_type": "code",
   "source": "medir_nodos_generados(construct_solution_a_estrella_river, initial_position)",
   "id": "468a367a311ba36f",
   "outputs": [
    {
     "data": {
      "text/plain": [
       "15.0"
      ]
     },
     "execution_count": 41,
     "metadata": {},
     "output_type": "execute_result"
    }
   ],
   "execution_count": 41
  }
 ],
 "metadata": {
  "kernelspec": {
   "display_name": "Python 3",
   "language": "python",
   "name": "python3"
  },
  "language_info": {
   "codemirror_mode": {
    "name": "ipython",
    "version": 2
   },
   "file_extension": ".py",
   "mimetype": "text/x-python",
   "name": "python",
   "nbconvert_exporter": "python",
   "pygments_lexer": "ipython2",
   "version": "2.7.6"
  }
 },
 "nbformat": 4,
 "nbformat_minor": 5
}
