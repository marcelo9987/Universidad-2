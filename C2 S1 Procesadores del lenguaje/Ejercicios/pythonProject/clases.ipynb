{
 "cells": [
  {
   "cell_type": "code",
   "id": "initial_id",
   "metadata": {
    "collapsed": true,
    "ExecuteTime": {
     "end_time": "2024-10-08T16:49:23.997822Z",
     "start_time": "2024-10-08T16:49:23.988856Z"
    }
   },
   "source": [
    "class Motocicleta:\n",
    "    segundaMano = False\n",
    "    motor       = False\n",
    "    def __init__(self, color, matricula, combustible_litros, numero_ruedas, marca, modelo, fecha_fabricacion,\n",
    "                 velocidad_punta, peso):\n",
    "        self.color = color\n",
    "        self.matricula = matricula\n",
    "        self.combustible_litros = combustible_litros\n",
    "        self.numero_ruedas = numero_ruedas\n",
    "        self.marca = marca\n",
    "        self.modelo = modelo\n",
    "        self.fecha_fabricacion = fecha_fabricacion\n",
    "        self.velocidad_punta = velocidad_punta\n",
    "        self.peso = peso\n",
    "        \n",
    "    def arrancar(self):\n",
    "        if self.motor:\n",
    "            print(\"[INFO] :: No se ha podido arrancar el motor: Ya estaba encendido\")\n",
    "            return\n",
    "        self.motor=True\n",
    "        print(\"El motor ha sido arrancado\")\n",
    "            \n",
    "\n",
    "    def detener(self):\n",
    "        if not self.motor:\n",
    "            print(\"[INFO] :: No se ha podido detener el motor: Ya estaba apagado\")\n",
    "            return None\n",
    "                 \n",
    "        self.motor=False\n",
    "        print(\"El motor ha sido detenido\")\n"
   ],
   "outputs": [],
   "execution_count": 34
  },
  {
   "metadata": {},
   "cell_type": "code",
   "outputs": [],
   "execution_count": null,
   "source": "",
   "id": "640e2c56300cf24b"
  },
  {
   "metadata": {
    "ExecuteTime": {
     "end_time": "2024-10-08T16:49:29.019553Z",
     "start_time": "2024-10-08T16:49:29.013490Z"
    }
   },
   "cell_type": "code",
   "source": [
    "moto1 = Motocicleta(\"rojo\",\"AA5862\",10,2,\"ART-45\",\"15-12-2006\",25,22,22)\n",
    "moto1.arrancar()\n",
    "moto1.arrancar()\n",
    "moto1.detener()\n",
    "moto1.detener()"
   ],
   "id": "e28a6bedb9e3834c",
   "outputs": [
    {
     "name": "stdout",
     "output_type": "stream",
     "text": [
      "El motor ha sido arrancado\n",
      "[INFO] :: No se ha podido arrancar el motor: Ya estaba encendido\n",
      "El motor ha sido detenido\n",
      "[INFO] :: No se ha podido detener el motor: Ya estaba apagado\n"
     ]
    }
   ],
   "execution_count": 35
  },
  {
   "metadata": {},
   "cell_type": "code",
   "outputs": [],
   "execution_count": null,
   "source": "",
   "id": "2b1d6a7f3ed475d3"
  }
 ],
 "metadata": {
  "kernelspec": {
   "display_name": "Python 3",
   "language": "python",
   "name": "python3"
  },
  "language_info": {
   "codemirror_mode": {
    "name": "ipython",
    "version": 2
   },
   "file_extension": ".py",
   "mimetype": "text/x-python",
   "name": "python",
   "nbconvert_exporter": "python",
   "pygments_lexer": "ipython2",
   "version": "2.7.6"
  }
 },
 "nbformat": 4,
 "nbformat_minor": 5
}
