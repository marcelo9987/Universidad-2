{
 "cells": [
  {
   "cell_type": "code",
   "id": "nkFlh4R9tyrh",
   "metadata": {
    "colab": {
     "base_uri": "https://localhost:8080/"
    },
    "id": "nkFlh4R9tyrh",
    "outputId": "28933c1d-2128-4602-ad5c-c7bacda047f9",
    "ExecuteTime": {
     "end_time": "2025-03-18T22:51:35.158051Z",
     "start_time": "2025-03-18T22:51:35.152793Z"
    }
   },
   "source": "debug = False",
   "outputs": [],
   "execution_count": 127
  },
  {
   "cell_type": "code",
   "id": "ab5f1cd5",
   "metadata": {
    "id": "ab5f1cd5",
    "ExecuteTime": {
     "end_time": "2025-03-18T22:51:35.202854Z",
     "start_time": "2025-03-18T22:51:35.196818Z"
    }
   },
   "source": [
    "import numpy as np\n",
    "import pandas as pd\n",
    "from queue import Queue\n",
    "import time"
   ],
   "outputs": [],
   "execution_count": 128
  },
  {
   "cell_type": "code",
   "id": "f8d3079c-21e7-4927-a5a8-b41fc8ff0f72",
   "metadata": {
    "colab": {
     "base_uri": "https://localhost:8080/"
    },
    "id": "f8d3079c-21e7-4927-a5a8-b41fc8ff0f72",
    "outputId": "e073a553-6955-44b1-b92f-8c99f9f82e4c",
    "ExecuteTime": {
     "end_time": "2025-03-18T22:51:35.223705Z",
     "start_time": "2025-03-18T22:51:35.212405Z"
    }
   },
   "source": [
    "initial_position = list(pd.read_csv('./inicial_medium.csv', delimiter=';', header=None).values[0])\n",
    "\n",
    "# posicion(0,1)\n",
    "initial_position[1] = initial_position[1].replace(' ', '')\n",
    "initial_position"
   ],
   "outputs": [
    {
     "data": {
      "text/plain": [
       "['OOOLLL', '', 'I']"
      ]
     },
     "execution_count": 129,
     "metadata": {},
     "output_type": "execute_result"
    }
   ],
   "execution_count": 129
  },
  {
   "cell_type": "code",
   "id": "bcee7925",
   "metadata": {
    "colab": {
     "base_uri": "https://localhost:8080/",
     "height": 53
    },
    "id": "bcee7925",
    "outputId": "89970154-2f17-43e7-8c99-b989d37654b1",
    "ExecuteTime": {
     "end_time": "2025-03-18T22:51:35.270526Z",
     "start_time": "2025-03-18T22:51:35.257651Z"
    }
   },
   "source": "pd.read_csv('./inicial_medium.csv', delimiter=';', header=None)",
   "outputs": [
    {
     "data": {
      "text/plain": [
       "        0  1  2\n",
       "0  OOOLLL     I"
      ],
      "text/html": [
       "<div>\n",
       "<style scoped>\n",
       "    .dataframe tbody tr th:only-of-type {\n",
       "        vertical-align: middle;\n",
       "    }\n",
       "\n",
       "    .dataframe tbody tr th {\n",
       "        vertical-align: top;\n",
       "    }\n",
       "\n",
       "    .dataframe thead th {\n",
       "        text-align: right;\n",
       "    }\n",
       "</style>\n",
       "<table border=\"1\" class=\"dataframe\">\n",
       "  <thead>\n",
       "    <tr style=\"text-align: right;\">\n",
       "      <th></th>\n",
       "      <th>0</th>\n",
       "      <th>1</th>\n",
       "      <th>2</th>\n",
       "    </tr>\n",
       "  </thead>\n",
       "  <tbody>\n",
       "    <tr>\n",
       "      <th>0</th>\n",
       "      <td>OOOLLL</td>\n",
       "      <td></td>\n",
       "      <td>I</td>\n",
       "    </tr>\n",
       "  </tbody>\n",
       "</table>\n",
       "</div>"
      ]
     },
     "execution_count": 130,
     "metadata": {},
     "output_type": "execute_result"
    }
   ],
   "execution_count": 130
  },
  {
   "cell_type": "code",
   "id": "044a6817",
   "metadata": {
    "id": "044a6817",
    "ExecuteTime": {
     "end_time": "2025-03-18T22:51:35.342520Z",
     "start_time": "2025-03-18T22:51:35.337196Z"
    }
   },
   "source": [
    "operations = [\n",
    "    'O',  #oveja\n",
    "    'L',  #lobo\n",
    "    'OO',  #ovejas\n",
    "    'OL',  #lobo y oveja\n",
    "    'LL'  #lobos\n",
    "]"
   ],
   "outputs": [],
   "execution_count": 131
  },
  {
   "cell_type": "code",
   "id": "4b4d9c5b",
   "metadata": {
    "id": "4b4d9c5b",
    "ExecuteTime": {
     "end_time": "2025-03-18T22:51:35.427160Z",
     "start_time": "2025-03-18T22:51:35.414269Z"
    }
   },
   "source": [
    "class Node:\n",
    "    def __init__(self, value, parent=None):\n",
    "        self.coste = None\n",
    "        self.value = value\n",
    "        self.children = []\n",
    "        self.parent = parent\n",
    "\n",
    "    def add_child(self, child, coste = None):\n",
    "        node = Node(child, parent=self)\n",
    "        if coste is not None:\n",
    "            node.coste = coste\n",
    "        self.children.append(node)\n",
    "        return node\n",
    "\n",
    "    def __eq__(self, other):\n",
    "        return self.coste == other.coste\n",
    "\n",
    "    def __ne__(self, other):\n",
    "        return not (self == other)\n",
    "\n",
    "    def __lt__(self, other):\n",
    "        return self.coste < other.coste\n",
    "\n",
    "    def __gt__(self, other):\n",
    "        return self.coste > other.coste\n",
    "\n",
    "    def __le__(self, other):\n",
    "        return self.coste <= other.coste\n",
    "\n",
    "    def __ge__(self, other):\n",
    "        return self.coste >= other.coste\n",
    "\n",
    "\n",
    "class Tree:\n",
    "    def __init__(self, root):\n",
    "        self.root = root\n",
    "\n",
    "\n",
    "def find_path_to_root(objective_node):\n",
    "    path = []\n",
    "    current_node = objective_node\n",
    "    while current_node is not None:\n",
    "        path.insert(0, current_node.value)\n",
    "        current_node = current_node.parent\n",
    "    return path"
   ],
   "outputs": [],
   "execution_count": 132
  },
  {
   "cell_type": "code",
   "id": "k6cv4pps4TUB",
   "metadata": {
    "id": "k6cv4pps4TUB",
    "ExecuteTime": {
     "end_time": "2025-03-18T22:51:35.530366Z",
     "start_time": "2025-03-18T22:51:35.525278Z"
    }
   },
   "source": [],
   "outputs": [],
   "execution_count": null
  },
  {
   "cell_type": "code",
   "id": "ee2580a3",
   "metadata": {
    "id": "ee2580a3",
    "ExecuteTime": {
     "end_time": "2025-03-18T22:51:35.677015Z",
     "start_time": "2025-03-18T22:51:35.658945Z"
    }
   },
   "source": [
    "def generate_children(estado, conjunto_de_operaciones):\n",
    "    \"\"\"\n",
    "    Método que genera los posibles hijos de un estado dado\n",
    "    Args:\n",
    "        estado: Situación del problema.\n",
    "        conjunto_de_operaciones: Operaciones que se pueden realizar\n",
    "\n",
    "    Returns: Lista de posibles hijos (estados derivados del estado actual)\n",
    "\n",
    "    \"\"\"\n",
    "    def change_position(operacion):\n",
    "        \"\"\"\n",
    "        Método que cambia la posición de la barca\n",
    "        Args:\n",
    "            operacion: Animales que se quieren mover\n",
    "\n",
    "        Returns: Nuevo estado del problema (animales a ambos lados y posición de la barca)\n",
    "\n",
    "\n",
    "        \"\"\"\n",
    "        position = estado[2]\n",
    "        if position == 'I':\n",
    "            # Comprobar disponibilidad de animales. Si en el origen (actual) hay mas o mismos animales que los que se quieren mover se puede realizar la operación\n",
    "            if all(estado[0].count(char) >= operacion.count(char) for char in set(operacion)):\n",
    "                nueva_cadena_izquierda = estado[0]\n",
    "                for char in operacion:\n",
    "                    nueva_cadena_izquierda = nueva_cadena_izquierda.replace(char, '', 1)\n",
    "                nuevo_destino_derecha = estado[1]\n",
    "            else:\n",
    "                if debug: print(\"No se puede realizar la operación {0} {1} {2}\".format(estado, operacion, position))\n",
    "                return None\n",
    "        else:\n",
    "            if all(estado[1].count(char) >= operacion.count(char) for char in set(operacion)):\n",
    "                nueva_cadena_izquierda = estado[1]\n",
    "                for char in operacion:\n",
    "                    nueva_cadena_izquierda = nueva_cadena_izquierda.replace(char, '', 1)\n",
    "                nuevo_destino_derecha = estado[0]\n",
    "            else:\n",
    "                if debug: print(\"No se puede realizar la operación {0} {1} {2}\".format(estado, operacion, position))\n",
    "                return None\n",
    "\n",
    "        nuevo_destino_derecha = ''.join(sorted(nuevo_destino_derecha + operacion, reverse=True))\n",
    "\n",
    "        # Comprobar estado válido\n",
    "        if nueva_cadena_izquierda.count('L') > nueva_cadena_izquierda.count('O') > 0:\n",
    "            return None\n",
    "        if nuevo_destino_derecha.count('L') > nuevo_destino_derecha.count('O') > 0:\n",
    "            return None\n",
    "\n",
    "        # print(\"estado válido: \",nuevaCadena, ''.join(sorted(nuevoDestino + operation, reverse=True)), position)\n",
    "\n",
    "        if position == 'I':\n",
    "            return np.asarray([nueva_cadena_izquierda, nuevo_destino_derecha, 'D'])\n",
    "        else:\n",
    "            return np.asarray([nuevo_destino_derecha, nueva_cadena_izquierda, 'I'])\n",
    "\n",
    "    children = []\n",
    "\n",
    "    for op in conjunto_de_operaciones:\n",
    "        new_position = change_position(op)\n",
    "        if new_position is not None:\n",
    "            children.append(new_position)\n",
    "\n",
    "    return children"
   ],
   "outputs": [],
   "execution_count": 133
  },
  {
   "metadata": {},
   "cell_type": "markdown",
   "source": "## Miscelánea",
   "id": "565867cdb45434f1"
  },
  {
   "metadata": {
    "ExecuteTime": {
     "end_time": "2025-03-18T22:51:35.706533Z",
     "start_time": "2025-03-18T22:51:35.697557Z"
    }
   },
   "cell_type": "code",
   "source": [
    "def movements_to_solution(solution_path):\n",
    "    pasos = []\n",
    "\n",
    "    for i in range(len(solution_path) - 1):\n",
    "        estado_actual = solution_path[i]\n",
    "        estado_siguiente = solution_path[i + 1]\n",
    "\n",
    "        # Descubrir la dirección de la barca\n",
    "        direccion = \"-->\" if estado_actual[2] == 'I' else \"<--\"\n",
    "\n",
    "        # Descubrir qué animales se movieron\n",
    "        if estado_actual[2] == 'I':\n",
    "            # Animales desplazados de izquierda a derecha\n",
    "            origen_antes = estado_actual[0]\n",
    "            origen_despues = estado_siguiente[0]\n",
    "\n",
    "            # Calcular diferencias\n",
    "            ovejas_movidas = origen_antes.count('O') - origen_despues.count('O')\n",
    "            lobos_movidos = origen_antes.count('L') - origen_despues.count('L')\n",
    "        else:\n",
    "            # Animales desplazados de derecha a izquierda\n",
    "            origen_antes = estado_actual[1]\n",
    "            origen_despues = estado_siguiente[1]\n",
    "\n",
    "            ovejas_movidas = origen_antes.count('O') - origen_despues.count('O')\n",
    "            lobos_movidos = origen_antes.count('L') - origen_despues.count('L')\n",
    "\n",
    "        moved_animals = []\n",
    "        if ovejas_movidas == 1:\n",
    "            moved_animals.append(\"oveja\")\n",
    "        elif ovejas_movidas > 1:\n",
    "            moved_animals.append(f\"{ovejas_movidas} ovejas\")\n",
    "\n",
    "        if lobos_movidos == 1:\n",
    "            moved_animals.append(\"lobo\")\n",
    "        elif lobos_movidos > 1:\n",
    "            moved_animals.append(f\"{lobos_movidos} lobos\")\n",
    "\n",
    "        pasos.append(\n",
    "            \"|\".join(estado_actual[:2])\n",
    "            + \"|\" + f\"{', '.join(moved_animals)} {direccion}\")\n",
    "\n",
    "    return pasos"
   ],
   "id": "7de8864a929f377a",
   "outputs": [],
   "execution_count": 134
  },
  {
   "metadata": {},
   "cell_type": "markdown",
   "source": "## Búsqueda en anchura",
   "id": "328477b71d051b8a"
  },
  {
   "cell_type": "code",
   "id": "0b02fc67",
   "metadata": {
    "id": "0b02fc67",
    "ExecuteTime": {
     "end_time": "2025-03-18T22:51:35.736607Z",
     "start_time": "2025-03-18T22:51:35.728613Z"
    }
   },
   "source": [
    "def construct_solution_BFS_river(tree):\n",
    "    nodos_a_expandir = Queue()\n",
    "    nodos_a_expandir.put(tree.root)\n",
    "    nodos_visitados = []\n",
    "\n",
    "    path = []\n",
    "\n",
    "    while not nodos_a_expandir.empty():\n",
    "        current_node = nodos_a_expandir.get()\n",
    "        current_position = current_node.value\n",
    "\n",
    "        if tuple(current_position) in nodos_visitados:\n",
    "            continue\n",
    "\n",
    "        nodos_visitados.append(tuple(current_position))\n",
    "\n",
    "        if current_position[0] == \"\":\n",
    "            current_node = current_node.add_child(current_position)\n",
    "            path = find_path_to_root(current_node)\n",
    "            return tree, path, list(nodos_visitados)\n",
    "\n",
    "\n",
    "\n",
    "        children = generate_children(current_position, operations)\n",
    "\n",
    "        for c in children:\n",
    "            if debug: print(c)\n",
    "            if tuple(c) not in nodos_visitados:\n",
    "                if debug: print(c)\n",
    "                child = current_node.add_child(c)\n",
    "                nodos_a_expandir.put(child)\n",
    "\n",
    "\n",
    "    return tree, [], nodos_visitados"
   ],
   "outputs": [],
   "execution_count": 135
  },
  {
   "cell_type": "code",
   "id": "57faae21",
   "metadata": {
    "colab": {
     "base_uri": "https://localhost:8080/"
    },
    "id": "57faae21",
    "outputId": "eb0fd91b-c4a3-465f-8f5b-9d5f74bffac9",
    "ExecuteTime": {
     "end_time": "2025-03-18T22:51:35.765171Z",
     "start_time": "2025-03-18T22:51:35.754111Z"
    }
   },
   "source": [
    "start_time = time.time()\n",
    "\n",
    "\n",
    "root = Tree(Node(initial_position))\n",
    "arbol_obtenido, camino, nodos = construct_solution_BFS_river(root)\n",
    "\n",
    "time.time() - start_time\n"
   ],
   "outputs": [
    {
     "data": {
      "text/plain": [
       "0.0019974708557128906"
      ]
     },
     "execution_count": 136,
     "metadata": {},
     "output_type": "execute_result"
    }
   ],
   "execution_count": 136
  },
  {
   "cell_type": "code",
   "id": "884d9c1d",
   "metadata": {
    "id": "884d9c1d",
    "ExecuteTime": {
     "end_time": "2025-03-18T22:51:35.813438Z",
     "start_time": "2025-03-18T22:51:35.806266Z"
    }
   },
   "source": "print(nodos)",
   "outputs": [
    {
     "name": "stdout",
     "output_type": "stream",
     "text": [
      "[('OOOLLL', '', 'I'), ('OOOLL', 'L', 'D'), ('OOLL', 'OL', 'D'), ('OOOL', 'LL', 'D'), ('OOOLL', 'L', 'I'), ('OOO', 'LLL', 'D'), ('OOOL', 'LL', 'I'), ('OL', 'OOLL', 'D'), ('OOLL', 'OL', 'I'), ('LL', 'OOOL', 'D'), ('LLL', 'OOO', 'I'), ('L', 'OOOLL', 'D'), ('OL', 'OOLL', 'I'), ('LL', 'OOOL', 'I'), ('', 'OOOLLL', 'D')]\n"
     ]
    }
   ],
   "execution_count": 137
  },
  {
   "cell_type": "code",
   "id": "2cdc93c2",
   "metadata": {
    "colab": {
     "base_uri": "https://localhost:8080/",
     "height": 263
    },
    "id": "2cdc93c2",
    "outputId": "1932ea37-6134-4c58-80f6-58ba726df5ed",
    "ExecuteTime": {
     "end_time": "2025-03-18T22:51:35.877288Z",
     "start_time": "2025-03-18T22:51:35.871269Z"
    }
   },
   "source": "movements = movements_to_solution(camino)",
   "outputs": [],
   "execution_count": 138
  },
  {
   "cell_type": "code",
   "id": "d45cba11-d61f-4720-9696-f13a0972c462",
   "metadata": {
    "id": "d45cba11-d61f-4720-9696-f13a0972c462",
    "ExecuteTime": {
     "end_time": "2025-03-18T22:51:35.896384Z",
     "start_time": "2025-03-18T22:51:35.889341Z"
    }
   },
   "source": [
    "print(\" Se consiguió la solución en {0} pasos.:\".format(len(movements)-1))\n",
    "\n",
    "print(movements)"
   ],
   "outputs": [
    {
     "name": "stdout",
     "output_type": "stream",
     "text": [
      " Se consiguió la solución en 11 pasos.:\n",
      "['OOOLLL||oveja, lobo -->', 'OOLL|OL|oveja <--', 'OOOLL|L|2 lobos -->', 'OOO|LLL|lobo <--', 'OOOL|LL|2 ovejas -->', 'OL|OOLL|oveja, lobo <--', 'OOLL|OL|2 ovejas -->', 'LL|OOOL|lobo <--', 'LLL|OOO|2 lobos -->', 'L|OOOLL|oveja <--', 'OL|OOLL|oveja, lobo -->', '|OOOLLL| <--']\n"
     ]
    }
   ],
   "execution_count": 139
  },
  {
   "metadata": {},
   "cell_type": "markdown",
   "source": "## Tiempos",
   "id": "b567b91e9901bcd1"
  },
  {
   "metadata": {
    "ExecuteTime": {
     "end_time": "2025-03-18T22:53:30.405279Z",
     "start_time": "2025-03-18T22:53:30.399094Z"
    }
   },
   "cell_type": "code",
   "source": [
    "import time\n",
    "\n",
    "\n",
    "def medir_tiempo(algoritmo, posicion_inicial_testbench, numero_de_ejecuciones=100000):\n",
    "    _debug=False\n",
    "    tiempos = []\n",
    "    for _ in range(numero_de_ejecuciones) :\n",
    "        inicio = time.perf_counter()  # Tiempo inicial\n",
    "        _root = Tree(Node(posicion_inicial_testbench))\n",
    "        _arbol_obtenido, _camino, _nodos = algoritmo(_root)\n",
    "        fin = time.perf_counter()  # Tiempo final\n",
    "        tempo = fin - inicio  # Tiempo total\n",
    "        tiempos.append(tempo)\n",
    "\n",
    "    media = np.mean(tiempos)\n",
    "    minimo = np.min(tiempos)\n",
    "    maximo = np.max(tiempos)\n",
    "\n",
    "    unidad_de_escalado = 1000 # 1 segundo = 1000 milisegundos\n",
    "\n",
    "    return media * unidad_de_escalado, minimo * unidad_de_escalado, maximo * unidad_de_escalado"
   ],
   "id": "91de5fc9c81628a",
   "outputs": [],
   "execution_count": 143
  },
  {
   "metadata": {
    "ExecuteTime": {
     "end_time": "2025-03-18T22:54:33.952607Z",
     "start_time": "2025-03-18T22:53:31.141877Z"
    }
   },
   "cell_type": "code",
   "source": [
    "datos_BFS = medir_tiempo(construct_solution_BFS_river, initial_position)\n",
    "# datos_A_estrella = medir_tempo(construct_solution_a_estrella_river, initial_position)\n",
    "print(\"Algoritmo | Media {0: <10}| Mínimo {0: <9}| Máximo {0: <10} |\".format(\" \"))\n",
    "print(\"BFS       | {0:.10f} ms | {1:.10f} ms | {2:.10f} ms  |\".format(datos_BFS[0], datos_BFS[1], datos_BFS[2]))\n",
    "# print(\"A*        | {0:.10f} ms | {1:.10f} ms | {2:.10f} ms  |\".format(datos_A_estrella[0], datos_A_estrella[1], datos_A_estrella[2]))\n"
   ],
   "id": "48fd031849ba928",
   "outputs": [
    {
     "name": "stdout",
     "output_type": "stream",
     "text": [
      "Algoritmo | Media           | Mínimo          | Máximo            |\n",
      "BFS       | 0.6271787170 ms | 0.4696999968 ms | 165.7612000126 ms  |\n"
     ]
    }
   ],
   "execution_count": 144
  },
  {
   "metadata": {
    "ExecuteTime": {
     "end_time": "2025-03-18T23:01:18.947617Z",
     "start_time": "2025-03-18T23:01:18.940550Z"
    }
   },
   "cell_type": "code",
   "source": [
    "def medir_nodos_generados(algoritmo, posicion_inicial_testbench, numero_de_ejecuciones=100000):\n",
    "    \"\"\"\n",
    "    Mide el número de nodos generados de un algoritmo (BFS o A*).\n",
    "\n",
    "    Args:\n",
    "        algoritmo: Función del algoritmo a medir (construct_solution_BFS_river o construct_solution_a_estrella_river).\n",
    "        posicion_inicial_testbench: Estado inicial do problema.\n",
    "\n",
    "    Returns:\n",
    "        nodos: Número de nodos generados.\n",
    "    \"\"\"\n",
    "    nodos = []\n",
    "    for _ in range(numero_de_ejecuciones) :\n",
    "        _root = Tree(Node(posicion_inicial_testbench))\n",
    "        _arbol_obtenido, _camino, _nodos = algoritmo(_root)\n",
    "        nodos.append(len(_nodos))\n",
    "\n",
    "    return np.mean(nodos)"
   ],
   "id": "d4344aba07a5477f",
   "outputs": [],
   "execution_count": 145
  },
  {
   "metadata": {
    "ExecuteTime": {
     "end_time": "2025-03-18T23:02:22.785408Z",
     "start_time": "2025-03-18T23:01:24.266945Z"
    }
   },
   "cell_type": "code",
   "source": "nodos_BFS = medir_nodos_generados(construct_solution_BFS_river, initial_position)",
   "id": "2132c744679fa693",
   "outputs": [],
   "execution_count": 146
  },
  {
   "metadata": {
    "ExecuteTime": {
     "end_time": "2025-03-18T23:02:36.096773Z",
     "start_time": "2025-03-18T23:02:36.089886Z"
    }
   },
   "cell_type": "code",
   "source": "nodos_BFS",
   "id": "2fb89d0f8ccc80ce",
   "outputs": [
    {
     "data": {
      "text/plain": [
       "15.0"
      ]
     },
     "execution_count": 147,
     "metadata": {},
     "output_type": "execute_result"
    }
   ],
   "execution_count": 147
  }
 ],
 "metadata": {
  "colab": {
   "provenance": []
  },
  "kernelspec": {
   "display_name": "Python 3 (ipykernel)",
   "language": "python",
   "name": "python3"
  },
  "language_info": {
   "codemirror_mode": {
    "name": "ipython",
    "version": 3
   },
   "file_extension": ".py",
   "mimetype": "text/x-python",
   "name": "python",
   "nbconvert_exporter": "python",
   "pygments_lexer": "ipython3",
   "version": "3.12.3"
  }
 },
 "nbformat": 4,
 "nbformat_minor": 5
}
