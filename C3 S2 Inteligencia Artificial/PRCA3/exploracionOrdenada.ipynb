{
 "cells": [
  {
   "metadata": {
    "ExecuteTime": {
     "end_time": "2025-05-07T14:32:24.989724Z",
     "start_time": "2025-05-07T14:32:17.162876Z"
    }
   },
   "cell_type": "code",
   "source": [
    "!pip install ucimlrepo\n",
    "!pip install scipy\n",
    "!pip install scikit-learn"
   ],
   "id": "5b76115f01dbc0e2",
   "outputs": [
    {
     "name": "stdout",
     "output_type": "stream",
     "text": [
      "Requirement already satisfied: ucimlrepo in e:\\entorno de pruebas\\prca3\\venv\\lib\\site-packages (0.0.7)\n",
      "Requirement already satisfied: pandas>=1.0.0 in e:\\entorno de pruebas\\prca3\\venv\\lib\\site-packages (from ucimlrepo) (2.2.3)\n",
      "Requirement already satisfied: certifi>=2020.12.5 in e:\\entorno de pruebas\\prca3\\venv\\lib\\site-packages (from ucimlrepo) (2025.1.31)\n",
      "Requirement already satisfied: numpy>=1.26.0 in e:\\entorno de pruebas\\prca3\\venv\\lib\\site-packages (from pandas>=1.0.0->ucimlrepo) (2.2.4)\n",
      "Requirement already satisfied: python-dateutil>=2.8.2 in e:\\entorno de pruebas\\prca3\\venv\\lib\\site-packages (from pandas>=1.0.0->ucimlrepo) (2.9.0.post0)\n",
      "Requirement already satisfied: pytz>=2020.1 in e:\\entorno de pruebas\\prca3\\venv\\lib\\site-packages (from pandas>=1.0.0->ucimlrepo) (2025.2)\n",
      "Requirement already satisfied: tzdata>=2022.7 in e:\\entorno de pruebas\\prca3\\venv\\lib\\site-packages (from pandas>=1.0.0->ucimlrepo) (2025.2)\n",
      "Requirement already satisfied: six>=1.5 in e:\\entorno de pruebas\\prca3\\venv\\lib\\site-packages (from python-dateutil>=2.8.2->pandas>=1.0.0->ucimlrepo) (1.17.0)\n"
     ]
    },
    {
     "name": "stderr",
     "output_type": "stream",
     "text": [
      "\n",
      "[notice] A new release of pip is available: 25.0.1 -> 25.1.1\n",
      "[notice] To update, run: python.exe -m pip install --upgrade pip\n"
     ]
    },
    {
     "name": "stdout",
     "output_type": "stream",
     "text": [
      "Requirement already satisfied: scipy in e:\\entorno de pruebas\\prca3\\venv\\lib\\site-packages (1.15.2)\n",
      "Requirement already satisfied: numpy<2.5,>=1.23.5 in e:\\entorno de pruebas\\prca3\\venv\\lib\\site-packages (from scipy) (2.2.4)\n"
     ]
    },
    {
     "name": "stderr",
     "output_type": "stream",
     "text": [
      "\n",
      "[notice] A new release of pip is available: 25.0.1 -> 25.1.1\n",
      "[notice] To update, run: python.exe -m pip install --upgrade pip\n"
     ]
    },
    {
     "name": "stdout",
     "output_type": "stream",
     "text": [
      "Requirement already satisfied: scikit-learn in e:\\entorno de pruebas\\prca3\\venv\\lib\\site-packages (1.6.1)\n",
      "Requirement already satisfied: numpy>=1.19.5 in e:\\entorno de pruebas\\prca3\\venv\\lib\\site-packages (from scikit-learn) (2.2.4)\n",
      "Requirement already satisfied: scipy>=1.6.0 in e:\\entorno de pruebas\\prca3\\venv\\lib\\site-packages (from scikit-learn) (1.15.2)\n",
      "Requirement already satisfied: joblib>=1.2.0 in e:\\entorno de pruebas\\prca3\\venv\\lib\\site-packages (from scikit-learn) (1.4.2)\n",
      "Requirement already satisfied: threadpoolctl>=3.1.0 in e:\\entorno de pruebas\\prca3\\venv\\lib\\site-packages (from scikit-learn) (3.6.0)\n"
     ]
    },
    {
     "name": "stderr",
     "output_type": "stream",
     "text": [
      "\n",
      "[notice] A new release of pip is available: 25.0.1 -> 25.1.1\n",
      "[notice] To update, run: python.exe -m pip install --upgrade pip\n"
     ]
    }
   ],
   "execution_count": 3
  },
  {
   "metadata": {
    "ExecuteTime": {
     "end_time": "2025-05-07T14:32:25.019716Z",
     "start_time": "2025-05-07T14:32:25.004534Z"
    }
   },
   "cell_type": "code",
   "source": [
    "from ucimlrepo import fetch_ucirepo\n",
    "import pprint\n",
    "import pandas as pd\n",
    "import matplotlib.pyplot as plt\n",
    "import seaborn as sns\n",
    "import numpy as np\n",
    "import scipy as sp\n",
    "from sklearn.preprocessing import MinMaxScaler\n",
    "import scipy.stats"
   ],
   "id": "7f524ca407008541",
   "outputs": [],
   "execution_count": 4
  },
  {
   "metadata": {
    "ExecuteTime": {
     "end_time": "2025-05-07T14:32:28.153365Z",
     "start_time": "2025-05-07T14:32:25.076779Z"
    }
   },
   "cell_type": "code",
   "source": [
    "iranian_churn = fetch_ucirepo(id=563)\n",
    "\n",
    "df = iranian_churn.data.features"
   ],
   "id": "5d6e557cc53bad9d",
   "outputs": [],
   "execution_count": 5
  },
  {
   "metadata": {},
   "cell_type": "markdown",
   "source": "# Exploración",
   "id": "662134c612f309cf"
  },
  {
   "metadata": {
    "ExecuteTime": {
     "end_time": "2025-05-07T14:32:28.224189Z",
     "start_time": "2025-05-07T14:32:28.201245Z"
    }
   },
   "cell_type": "code",
   "source": "iranian_churn.metadata",
   "id": "d83086eac1c7d804",
   "outputs": [
    {
     "data": {
      "text/plain": [
       "{'uci_id': 563,\n",
       " 'name': 'Iranian Churn',\n",
       " 'repository_url': 'https://archive.ics.uci.edu/dataset/563/iranian+churn+dataset',\n",
       " 'data_url': 'https://archive.ics.uci.edu/static/public/563/data.csv',\n",
       " 'abstract': \"This dataset is randomly collected from an Iranian telecom company's database over a period of 12 months.\",\n",
       " 'area': 'Business',\n",
       " 'tasks': ['Classification', 'Regression'],\n",
       " 'characteristics': ['Multivariate'],\n",
       " 'num_instances': 3150,\n",
       " 'num_features': 13,\n",
       " 'feature_types': ['Integer'],\n",
       " 'demographics': ['Age'],\n",
       " 'target_col': ['Churn'],\n",
       " 'index_col': None,\n",
       " 'has_missing_values': 'no',\n",
       " 'missing_values_symbol': None,\n",
       " 'year_of_dataset_creation': 2020,\n",
       " 'last_updated': 'Sat Mar 09 2024',\n",
       " 'dataset_doi': '10.24432/C5JW3Z',\n",
       " 'creators': [],\n",
       " 'intro_paper': None,\n",
       " 'additional_info': {'summary': 'This dataset is randomly collected from an Iranian telecom companyâ€™s database over a period of 12 months. A total of 3150 rows of data, each representing a customer, bear information for 13 columns. The attributes that are in this dataset\\r\\nare call failures, frequency of SMS, number of complaints, number of distinct calls, subscription length, age group, the charge amount, type of service, seconds of use, status, frequency of use, and Customer Value.\\r\\n\\r\\nAll of the attributes except for attribute churn is the aggregated data of the first 9 months. The churn labels are the state of the customers at the end of 12 months. The three months is the designated planning gap.',\n",
       "  'purpose': None,\n",
       "  'funded_by': None,\n",
       "  'instances_represent': None,\n",
       "  'recommended_data_splits': None,\n",
       "  'sensitive_data': None,\n",
       "  'preprocessing_description': None,\n",
       "  'variable_info': 'Anonymous Customer ID\\r\\nCall Failures: number of call failures\\r\\nComplains: binary (0: No complaint, 1: complaint)\\r\\nSubscription Length: total months of subscription\\r\\nCharge Amount: Ordinal attribute (0: lowest amount, 9: highest amount)\\r\\nSeconds of Use: total seconds of calls\\r\\nFrequency of use: total number of calls\\r\\nFrequency of SMS: total number of text messages\\r\\nDistinct Called Numbers: total number of distinct phone calls \\r\\nAge Group: ordinal attribute (1: younger age, 5: older age)\\r\\nTariff Plan: binary (1: Pay as you go, 2: contractual)\\r\\nStatus: binary (1: active, 2: non-active)\\r\\nChurn: binary (1: churn, 0: non-churn) - Class label\\r\\nCustomer Value: The calculated value of customer',\n",
       "  'citation': None}}"
      ]
     },
     "execution_count": 6,
     "metadata": {},
     "output_type": "execute_result"
    }
   ],
   "execution_count": 6
  },
  {
   "metadata": {
    "ExecuteTime": {
     "end_time": "2025-05-07T14:32:28.312110Z",
     "start_time": "2025-05-07T14:32:28.295373Z"
    }
   },
   "cell_type": "code",
   "source": "iranian_churn.variables",
   "id": "d9ced9f02492f833",
   "outputs": [
    {
     "data": {
      "text/plain": [
       "                       name     role        type demographic description  \\\n",
       "0             Call  Failure  Feature     Integer        None        None   \n",
       "1                 Complains  Feature      Binary        None        None   \n",
       "2      Subscription  Length  Feature     Integer        None        None   \n",
       "3            Charge  Amount  Feature     Integer        None        None   \n",
       "4            Seconds of Use  Feature     Integer        None        None   \n",
       "5          Frequency of use  Feature     Integer        None        None   \n",
       "6          Frequency of SMS  Feature     Integer        None        None   \n",
       "7   Distinct Called Numbers  Feature     Integer        None        None   \n",
       "8                 Age Group  Feature     Integer         Age        None   \n",
       "9               Tariff Plan  Feature     Integer        None        None   \n",
       "10                   Status  Feature      Binary        None        None   \n",
       "11                      Age  Feature     Integer         Age        None   \n",
       "12           Customer Value  Feature  Continuous        None        None   \n",
       "13                    Churn   Target      Binary        None        None   \n",
       "\n",
       "   units missing_values  \n",
       "0   None             no  \n",
       "1   None             no  \n",
       "2   None             no  \n",
       "3   None             no  \n",
       "4   None             no  \n",
       "5   None             no  \n",
       "6   None             no  \n",
       "7   None             no  \n",
       "8   None             no  \n",
       "9   None             no  \n",
       "10  None             no  \n",
       "11  None             no  \n",
       "12  None             no  \n",
       "13  None             no  "
      ],
      "text/html": [
       "<div>\n",
       "<style scoped>\n",
       "    .dataframe tbody tr th:only-of-type {\n",
       "        vertical-align: middle;\n",
       "    }\n",
       "\n",
       "    .dataframe tbody tr th {\n",
       "        vertical-align: top;\n",
       "    }\n",
       "\n",
       "    .dataframe thead th {\n",
       "        text-align: right;\n",
       "    }\n",
       "</style>\n",
       "<table border=\"1\" class=\"dataframe\">\n",
       "  <thead>\n",
       "    <tr style=\"text-align: right;\">\n",
       "      <th></th>\n",
       "      <th>name</th>\n",
       "      <th>role</th>\n",
       "      <th>type</th>\n",
       "      <th>demographic</th>\n",
       "      <th>description</th>\n",
       "      <th>units</th>\n",
       "      <th>missing_values</th>\n",
       "    </tr>\n",
       "  </thead>\n",
       "  <tbody>\n",
       "    <tr>\n",
       "      <th>0</th>\n",
       "      <td>Call  Failure</td>\n",
       "      <td>Feature</td>\n",
       "      <td>Integer</td>\n",
       "      <td>None</td>\n",
       "      <td>None</td>\n",
       "      <td>None</td>\n",
       "      <td>no</td>\n",
       "    </tr>\n",
       "    <tr>\n",
       "      <th>1</th>\n",
       "      <td>Complains</td>\n",
       "      <td>Feature</td>\n",
       "      <td>Binary</td>\n",
       "      <td>None</td>\n",
       "      <td>None</td>\n",
       "      <td>None</td>\n",
       "      <td>no</td>\n",
       "    </tr>\n",
       "    <tr>\n",
       "      <th>2</th>\n",
       "      <td>Subscription  Length</td>\n",
       "      <td>Feature</td>\n",
       "      <td>Integer</td>\n",
       "      <td>None</td>\n",
       "      <td>None</td>\n",
       "      <td>None</td>\n",
       "      <td>no</td>\n",
       "    </tr>\n",
       "    <tr>\n",
       "      <th>3</th>\n",
       "      <td>Charge  Amount</td>\n",
       "      <td>Feature</td>\n",
       "      <td>Integer</td>\n",
       "      <td>None</td>\n",
       "      <td>None</td>\n",
       "      <td>None</td>\n",
       "      <td>no</td>\n",
       "    </tr>\n",
       "    <tr>\n",
       "      <th>4</th>\n",
       "      <td>Seconds of Use</td>\n",
       "      <td>Feature</td>\n",
       "      <td>Integer</td>\n",
       "      <td>None</td>\n",
       "      <td>None</td>\n",
       "      <td>None</td>\n",
       "      <td>no</td>\n",
       "    </tr>\n",
       "    <tr>\n",
       "      <th>5</th>\n",
       "      <td>Frequency of use</td>\n",
       "      <td>Feature</td>\n",
       "      <td>Integer</td>\n",
       "      <td>None</td>\n",
       "      <td>None</td>\n",
       "      <td>None</td>\n",
       "      <td>no</td>\n",
       "    </tr>\n",
       "    <tr>\n",
       "      <th>6</th>\n",
       "      <td>Frequency of SMS</td>\n",
       "      <td>Feature</td>\n",
       "      <td>Integer</td>\n",
       "      <td>None</td>\n",
       "      <td>None</td>\n",
       "      <td>None</td>\n",
       "      <td>no</td>\n",
       "    </tr>\n",
       "    <tr>\n",
       "      <th>7</th>\n",
       "      <td>Distinct Called Numbers</td>\n",
       "      <td>Feature</td>\n",
       "      <td>Integer</td>\n",
       "      <td>None</td>\n",
       "      <td>None</td>\n",
       "      <td>None</td>\n",
       "      <td>no</td>\n",
       "    </tr>\n",
       "    <tr>\n",
       "      <th>8</th>\n",
       "      <td>Age Group</td>\n",
       "      <td>Feature</td>\n",
       "      <td>Integer</td>\n",
       "      <td>Age</td>\n",
       "      <td>None</td>\n",
       "      <td>None</td>\n",
       "      <td>no</td>\n",
       "    </tr>\n",
       "    <tr>\n",
       "      <th>9</th>\n",
       "      <td>Tariff Plan</td>\n",
       "      <td>Feature</td>\n",
       "      <td>Integer</td>\n",
       "      <td>None</td>\n",
       "      <td>None</td>\n",
       "      <td>None</td>\n",
       "      <td>no</td>\n",
       "    </tr>\n",
       "    <tr>\n",
       "      <th>10</th>\n",
       "      <td>Status</td>\n",
       "      <td>Feature</td>\n",
       "      <td>Binary</td>\n",
       "      <td>None</td>\n",
       "      <td>None</td>\n",
       "      <td>None</td>\n",
       "      <td>no</td>\n",
       "    </tr>\n",
       "    <tr>\n",
       "      <th>11</th>\n",
       "      <td>Age</td>\n",
       "      <td>Feature</td>\n",
       "      <td>Integer</td>\n",
       "      <td>Age</td>\n",
       "      <td>None</td>\n",
       "      <td>None</td>\n",
       "      <td>no</td>\n",
       "    </tr>\n",
       "    <tr>\n",
       "      <th>12</th>\n",
       "      <td>Customer Value</td>\n",
       "      <td>Feature</td>\n",
       "      <td>Continuous</td>\n",
       "      <td>None</td>\n",
       "      <td>None</td>\n",
       "      <td>None</td>\n",
       "      <td>no</td>\n",
       "    </tr>\n",
       "    <tr>\n",
       "      <th>13</th>\n",
       "      <td>Churn</td>\n",
       "      <td>Target</td>\n",
       "      <td>Binary</td>\n",
       "      <td>None</td>\n",
       "      <td>None</td>\n",
       "      <td>None</td>\n",
       "      <td>no</td>\n",
       "    </tr>\n",
       "  </tbody>\n",
       "</table>\n",
       "</div>"
      ]
     },
     "execution_count": 7,
     "metadata": {},
     "output_type": "execute_result"
    }
   ],
   "execution_count": 7
  },
  {
   "metadata": {
    "ExecuteTime": {
     "end_time": "2025-05-07T14:32:28.446233Z",
     "start_time": "2025-05-07T14:32:28.430700Z"
    }
   },
   "cell_type": "code",
   "source": "df.info()",
   "id": "f36735fba2e3b79f",
   "outputs": [
    {
     "name": "stdout",
     "output_type": "stream",
     "text": [
      "<class 'pandas.core.frame.DataFrame'>\n",
      "RangeIndex: 3150 entries, 0 to 3149\n",
      "Data columns (total 13 columns):\n",
      " #   Column                   Non-Null Count  Dtype  \n",
      "---  ------                   --------------  -----  \n",
      " 0   Call  Failure            3150 non-null   int64  \n",
      " 1   Complains                3150 non-null   int64  \n",
      " 2   Subscription  Length     3150 non-null   int64  \n",
      " 3   Charge  Amount           3150 non-null   int64  \n",
      " 4   Seconds of Use           3150 non-null   int64  \n",
      " 5   Frequency of use         3150 non-null   int64  \n",
      " 6   Frequency of SMS         3150 non-null   int64  \n",
      " 7   Distinct Called Numbers  3150 non-null   int64  \n",
      " 8   Age Group                3150 non-null   int64  \n",
      " 9   Tariff Plan              3150 non-null   int64  \n",
      " 10  Status                   3150 non-null   int64  \n",
      " 11  Age                      3150 non-null   int64  \n",
      " 12  Customer Value           3150 non-null   float64\n",
      "dtypes: float64(1), int64(12)\n",
      "memory usage: 320.1 KB\n"
     ]
    }
   ],
   "execution_count": 8
  },
  {
   "metadata": {
    "ExecuteTime": {
     "end_time": "2025-05-07T14:32:28.632364Z",
     "start_time": "2025-05-07T14:32:28.582813Z"
    }
   },
   "cell_type": "code",
   "source": "df.describe()",
   "id": "24c0017fe4b28162",
   "outputs": [
    {
     "data": {
      "text/plain": [
       "       Call  Failure    Complains  Subscription  Length  Charge  Amount  \\\n",
       "count    3150.000000  3150.000000           3150.000000     3150.000000   \n",
       "mean        7.627937     0.076508             32.541905        0.942857   \n",
       "std         7.263886     0.265851              8.573482        1.521072   \n",
       "min         0.000000     0.000000              3.000000        0.000000   \n",
       "25%         1.000000     0.000000             30.000000        0.000000   \n",
       "50%         6.000000     0.000000             35.000000        0.000000   \n",
       "75%        12.000000     0.000000             38.000000        1.000000   \n",
       "max        36.000000     1.000000             47.000000       10.000000   \n",
       "\n",
       "       Seconds of Use  Frequency of use  Frequency of SMS  \\\n",
       "count     3150.000000       3150.000000       3150.000000   \n",
       "mean      4472.459683         69.460635         73.174921   \n",
       "std       4197.908687         57.413308        112.237560   \n",
       "min          0.000000          0.000000          0.000000   \n",
       "25%       1391.250000         27.000000          6.000000   \n",
       "50%       2990.000000         54.000000         21.000000   \n",
       "75%       6478.250000         95.000000         87.000000   \n",
       "max      17090.000000        255.000000        522.000000   \n",
       "\n",
       "       Distinct Called Numbers    Age Group  Tariff Plan       Status  \\\n",
       "count              3150.000000  3150.000000  3150.000000  3150.000000   \n",
       "mean                 23.509841     2.826032     1.077778     1.248254   \n",
       "std                  17.217337     0.892555     0.267864     0.432069   \n",
       "min                   0.000000     1.000000     1.000000     1.000000   \n",
       "25%                  10.000000     2.000000     1.000000     1.000000   \n",
       "50%                  21.000000     3.000000     1.000000     1.000000   \n",
       "75%                  34.000000     3.000000     1.000000     1.000000   \n",
       "max                  97.000000     5.000000     2.000000     2.000000   \n",
       "\n",
       "               Age  Customer Value  \n",
       "count  3150.000000     3150.000000  \n",
       "mean     30.998413      470.972916  \n",
       "std       8.831095      517.015433  \n",
       "min      15.000000        0.000000  \n",
       "25%      25.000000      113.801250  \n",
       "50%      30.000000      228.480000  \n",
       "75%      30.000000      788.388750  \n",
       "max      55.000000     2165.280000  "
      ],
      "text/html": [
       "<div>\n",
       "<style scoped>\n",
       "    .dataframe tbody tr th:only-of-type {\n",
       "        vertical-align: middle;\n",
       "    }\n",
       "\n",
       "    .dataframe tbody tr th {\n",
       "        vertical-align: top;\n",
       "    }\n",
       "\n",
       "    .dataframe thead th {\n",
       "        text-align: right;\n",
       "    }\n",
       "</style>\n",
       "<table border=\"1\" class=\"dataframe\">\n",
       "  <thead>\n",
       "    <tr style=\"text-align: right;\">\n",
       "      <th></th>\n",
       "      <th>Call  Failure</th>\n",
       "      <th>Complains</th>\n",
       "      <th>Subscription  Length</th>\n",
       "      <th>Charge  Amount</th>\n",
       "      <th>Seconds of Use</th>\n",
       "      <th>Frequency of use</th>\n",
       "      <th>Frequency of SMS</th>\n",
       "      <th>Distinct Called Numbers</th>\n",
       "      <th>Age Group</th>\n",
       "      <th>Tariff Plan</th>\n",
       "      <th>Status</th>\n",
       "      <th>Age</th>\n",
       "      <th>Customer Value</th>\n",
       "    </tr>\n",
       "  </thead>\n",
       "  <tbody>\n",
       "    <tr>\n",
       "      <th>count</th>\n",
       "      <td>3150.000000</td>\n",
       "      <td>3150.000000</td>\n",
       "      <td>3150.000000</td>\n",
       "      <td>3150.000000</td>\n",
       "      <td>3150.000000</td>\n",
       "      <td>3150.000000</td>\n",
       "      <td>3150.000000</td>\n",
       "      <td>3150.000000</td>\n",
       "      <td>3150.000000</td>\n",
       "      <td>3150.000000</td>\n",
       "      <td>3150.000000</td>\n",
       "      <td>3150.000000</td>\n",
       "      <td>3150.000000</td>\n",
       "    </tr>\n",
       "    <tr>\n",
       "      <th>mean</th>\n",
       "      <td>7.627937</td>\n",
       "      <td>0.076508</td>\n",
       "      <td>32.541905</td>\n",
       "      <td>0.942857</td>\n",
       "      <td>4472.459683</td>\n",
       "      <td>69.460635</td>\n",
       "      <td>73.174921</td>\n",
       "      <td>23.509841</td>\n",
       "      <td>2.826032</td>\n",
       "      <td>1.077778</td>\n",
       "      <td>1.248254</td>\n",
       "      <td>30.998413</td>\n",
       "      <td>470.972916</td>\n",
       "    </tr>\n",
       "    <tr>\n",
       "      <th>std</th>\n",
       "      <td>7.263886</td>\n",
       "      <td>0.265851</td>\n",
       "      <td>8.573482</td>\n",
       "      <td>1.521072</td>\n",
       "      <td>4197.908687</td>\n",
       "      <td>57.413308</td>\n",
       "      <td>112.237560</td>\n",
       "      <td>17.217337</td>\n",
       "      <td>0.892555</td>\n",
       "      <td>0.267864</td>\n",
       "      <td>0.432069</td>\n",
       "      <td>8.831095</td>\n",
       "      <td>517.015433</td>\n",
       "    </tr>\n",
       "    <tr>\n",
       "      <th>min</th>\n",
       "      <td>0.000000</td>\n",
       "      <td>0.000000</td>\n",
       "      <td>3.000000</td>\n",
       "      <td>0.000000</td>\n",
       "      <td>0.000000</td>\n",
       "      <td>0.000000</td>\n",
       "      <td>0.000000</td>\n",
       "      <td>0.000000</td>\n",
       "      <td>1.000000</td>\n",
       "      <td>1.000000</td>\n",
       "      <td>1.000000</td>\n",
       "      <td>15.000000</td>\n",
       "      <td>0.000000</td>\n",
       "    </tr>\n",
       "    <tr>\n",
       "      <th>25%</th>\n",
       "      <td>1.000000</td>\n",
       "      <td>0.000000</td>\n",
       "      <td>30.000000</td>\n",
       "      <td>0.000000</td>\n",
       "      <td>1391.250000</td>\n",
       "      <td>27.000000</td>\n",
       "      <td>6.000000</td>\n",
       "      <td>10.000000</td>\n",
       "      <td>2.000000</td>\n",
       "      <td>1.000000</td>\n",
       "      <td>1.000000</td>\n",
       "      <td>25.000000</td>\n",
       "      <td>113.801250</td>\n",
       "    </tr>\n",
       "    <tr>\n",
       "      <th>50%</th>\n",
       "      <td>6.000000</td>\n",
       "      <td>0.000000</td>\n",
       "      <td>35.000000</td>\n",
       "      <td>0.000000</td>\n",
       "      <td>2990.000000</td>\n",
       "      <td>54.000000</td>\n",
       "      <td>21.000000</td>\n",
       "      <td>21.000000</td>\n",
       "      <td>3.000000</td>\n",
       "      <td>1.000000</td>\n",
       "      <td>1.000000</td>\n",
       "      <td>30.000000</td>\n",
       "      <td>228.480000</td>\n",
       "    </tr>\n",
       "    <tr>\n",
       "      <th>75%</th>\n",
       "      <td>12.000000</td>\n",
       "      <td>0.000000</td>\n",
       "      <td>38.000000</td>\n",
       "      <td>1.000000</td>\n",
       "      <td>6478.250000</td>\n",
       "      <td>95.000000</td>\n",
       "      <td>87.000000</td>\n",
       "      <td>34.000000</td>\n",
       "      <td>3.000000</td>\n",
       "      <td>1.000000</td>\n",
       "      <td>1.000000</td>\n",
       "      <td>30.000000</td>\n",
       "      <td>788.388750</td>\n",
       "    </tr>\n",
       "    <tr>\n",
       "      <th>max</th>\n",
       "      <td>36.000000</td>\n",
       "      <td>1.000000</td>\n",
       "      <td>47.000000</td>\n",
       "      <td>10.000000</td>\n",
       "      <td>17090.000000</td>\n",
       "      <td>255.000000</td>\n",
       "      <td>522.000000</td>\n",
       "      <td>97.000000</td>\n",
       "      <td>5.000000</td>\n",
       "      <td>2.000000</td>\n",
       "      <td>2.000000</td>\n",
       "      <td>55.000000</td>\n",
       "      <td>2165.280000</td>\n",
       "    </tr>\n",
       "  </tbody>\n",
       "</table>\n",
       "</div>"
      ]
     },
     "execution_count": 9,
     "metadata": {},
     "output_type": "execute_result"
    }
   ],
   "execution_count": 9
  },
  {
   "metadata": {},
   "cell_type": "markdown",
   "source": "## Univariable\n",
   "id": "332ec2fda15ee360"
  },
  {
   "metadata": {},
   "cell_type": "markdown",
   "source": "### LLamadas fallidas",
   "id": "fb41a9a9c5aa1f51"
  },
  {
   "metadata": {
    "ExecuteTime": {
     "end_time": "2025-05-07T14:32:29.026597Z",
     "start_time": "2025-05-07T14:32:28.801512Z"
    }
   },
   "cell_type": "code",
   "source": [
    "plt.hist(df['Call  Failure'])\n",
    "plt.xlabel('Llamadas fallidas')\n",
    "plt.ylabel('Frecuencia')\n",
    "plt.show()"
   ],
   "id": "2bc6a71d4319e33",
   "outputs": [
    {
     "data": {
      "text/plain": [
       "<Figure size 640x480 with 1 Axes>"
      ],
      "image/png": "[encoded data removed]"
     },
     "metadata": {},
     "output_type": "display_data"
    }
   ],
   "execution_count": 10
  },
  {
   "metadata": {
    "ExecuteTime": {
     "end_time": "2025-05-07T14:32:29.292436Z",
     "start_time": "2025-05-07T14:32:29.184108Z"
    }
   },
   "cell_type": "code",
   "source": [
    "plt.boxplot(df['Call  Failure'])\n",
    "plt.xlabel('Llamadas fallidas')\n",
    "plt.ylabel('Frecuencia')\n",
    "plt.show()"
   ],
   "id": "6368adba2992de51",
   "outputs": [
    {
     "data": {
      "text/plain": [
       "<Figure size 640x480 with 1 Axes>"
      ],
      "image/png": "[encoded data removed]"
     },
     "metadata": {},
     "output_type": "display_data"
    }
   ],
   "execution_count": 11
  },
  {
   "metadata": {},
   "cell_type": "markdown",
   "source": "## Quejas",
   "id": "2de89f3e490976a9"
  },
  {
   "metadata": {},
   "cell_type": "markdown",
   "source": "## Limpieza",
   "id": "5359eb9ae43d898f"
  },
  {
   "metadata": {
    "ExecuteTime": {
     "end_time": "2025-05-07T14:32:29.656203Z",
     "start_time": "2025-05-07T14:32:29.634214Z"
    }
   },
   "cell_type": "code",
   "source": [
    "df_sin_duplicados = df.drop_duplicates()\n",
    "df_sin_duplicados.duplicated().sum()"
   ],
   "id": "d4ca500a97b0d3b6",
   "outputs": [
    {
     "data": {
      "text/plain": [
       "np.int64(0)"
      ]
     },
     "execution_count": 12,
     "metadata": {},
     "output_type": "execute_result"
    }
   ],
   "execution_count": 12
  },
  {
   "metadata": {},
   "cell_type": "markdown",
   "source": "",
   "id": "93727a3f25553753"
  },
  {
   "metadata": {
    "ExecuteTime": {
     "end_time": "2025-05-07T14:32:29.930113Z",
     "start_time": "2025-05-07T14:32:29.857550Z"
    }
   },
   "cell_type": "code",
   "source": [
    "scaler = MinMaxScaler()\n",
    "\n",
    "scaler.fit(df_sin_duplicados)\n",
    "pd_normalizado = pd.DataFrame(scaler.transform(df_sin_duplicados))\n",
    "pd_normalizado.describe()"
   ],
   "id": "b26dcdf91c8e23d3",
   "outputs": [
    {
     "data": {
      "text/plain": [
       "                0            1            2            3            4   \\\n",
       "count  2836.000000  2836.000000  2836.000000  2836.000000  2836.000000   \n",
       "mean      0.217756     0.081100     0.669244     0.097955     0.266584   \n",
       "std       0.203470     0.273037     0.198647     0.155292     0.245678   \n",
       "min       0.000000     0.000000     0.000000     0.000000     0.000000   \n",
       "25%       0.055556     0.000000     0.590909     0.000000     0.087010   \n",
       "50%       0.166667     0.000000     0.727273     0.000000     0.179345   \n",
       "75%       0.333333     0.000000     0.795455     0.200000     0.380954   \n",
       "max       1.000000     1.000000     1.000000     1.000000     1.000000   \n",
       "\n",
       "                5            6            7            8            9   \\\n",
       "count  2836.000000  2836.000000  2836.000000  2836.000000  2836.000000   \n",
       "mean      0.277734     0.142039     0.247245     0.459626     0.080748   \n",
       "std       0.224865     0.214989     0.176914     0.223411     0.272495   \n",
       "min       0.000000     0.000000     0.000000     0.000000     0.000000   \n",
       "25%       0.113725     0.013410     0.113402     0.250000     0.000000   \n",
       "50%       0.215686     0.042146     0.216495     0.500000     0.000000   \n",
       "75%       0.376471     0.172414     0.350515     0.500000     0.000000   \n",
       "max       1.000000     1.000000     1.000000     1.000000     1.000000   \n",
       "\n",
       "                10           11           12  \n",
       "count  2836.000000  2836.000000  2836.000000  \n",
       "mean      0.236248     0.402504     0.220424  \n",
       "std       0.424851     0.221759     0.237694  \n",
       "min       0.000000     0.000000     0.000000  \n",
       "25%       0.000000     0.250000     0.055186  \n",
       "50%       0.000000     0.375000     0.108168  \n",
       "75%       0.000000     0.375000     0.365860  \n",
       "max       1.000000     1.000000     1.000000  "
      ],
      "text/html": [
       "<div>\n",
       "<style scoped>\n",
       "    .dataframe tbody tr th:only-of-type {\n",
       "        vertical-align: middle;\n",
       "    }\n",
       "\n",
       "    .dataframe tbody tr th {\n",
       "        vertical-align: top;\n",
       "    }\n",
       "\n",
       "    .dataframe thead th {\n",
       "        text-align: right;\n",
       "    }\n",
       "</style>\n",
       "<table border=\"1\" class=\"dataframe\">\n",
       "  <thead>\n",
       "    <tr style=\"text-align: right;\">\n",
       "      <th></th>\n",
       "      <th>0</th>\n",
       "      <th>1</th>\n",
       "      <th>2</th>\n",
       "      <th>3</th>\n",
       "      <th>4</th>\n",
       "      <th>5</th>\n",
       "      <th>6</th>\n",
       "      <th>7</th>\n",
       "      <th>8</th>\n",
       "      <th>9</th>\n",
       "      <th>10</th>\n",
       "      <th>11</th>\n",
       "      <th>12</th>\n",
       "    </tr>\n",
       "  </thead>\n",
       "  <tbody>\n",
       "    <tr>\n",
       "      <th>count</th>\n",
       "      <td>2836.000000</td>\n",
       "      <td>2836.000000</td>\n",
       "      <td>2836.000000</td>\n",
       "      <td>2836.000000</td>\n",
       "      <td>2836.000000</td>\n",
       "      <td>2836.000000</td>\n",
       "      <td>2836.000000</td>\n",
       "      <td>2836.000000</td>\n",
       "      <td>2836.000000</td>\n",
       "      <td>2836.000000</td>\n",
       "      <td>2836.000000</td>\n",
       "      <td>2836.000000</td>\n",
       "      <td>2836.000000</td>\n",
       "    </tr>\n",
       "    <tr>\n",
       "      <th>mean</th>\n",
       "      <td>0.217756</td>\n",
       "      <td>0.081100</td>\n",
       "      <td>0.669244</td>\n",
       "      <td>0.097955</td>\n",
       "      <td>0.266584</td>\n",
       "      <td>0.277734</td>\n",
       "      <td>0.142039</td>\n",
       "      <td>0.247245</td>\n",
       "      <td>0.459626</td>\n",
       "      <td>0.080748</td>\n",
       "      <td>0.236248</td>\n",
       "      <td>0.402504</td>\n",
       "      <td>0.220424</td>\n",
       "    </tr>\n",
       "    <tr>\n",
       "      <th>std</th>\n",
       "      <td>0.203470</td>\n",
       "      <td>0.273037</td>\n",
       "      <td>0.198647</td>\n",
       "      <td>0.155292</td>\n",
       "      <td>0.245678</td>\n",
       "      <td>0.224865</td>\n",
       "      <td>0.214989</td>\n",
       "      <td>0.176914</td>\n",
       "      <td>0.223411</td>\n",
       "      <td>0.272495</td>\n",
       "      <td>0.424851</td>\n",
       "      <td>0.221759</td>\n",
       "      <td>0.237694</td>\n",
       "    </tr>\n",
       "    <tr>\n",
       "      <th>min</th>\n",
       "      <td>0.000000</td>\n",
       "      <td>0.000000</td>\n",
       "      <td>0.000000</td>\n",
       "      <td>0.000000</td>\n",
       "      <td>0.000000</td>\n",
       "      <td>0.000000</td>\n",
       "      <td>0.000000</td>\n",
       "      <td>0.000000</td>\n",
       "      <td>0.000000</td>\n",
       "      <td>0.000000</td>\n",
       "      <td>0.000000</td>\n",
       "      <td>0.000000</td>\n",
       "      <td>0.000000</td>\n",
       "    </tr>\n",
       "    <tr>\n",
       "      <th>25%</th>\n",
       "      <td>0.055556</td>\n",
       "      <td>0.000000</td>\n",
       "      <td>0.590909</td>\n",
       "      <td>0.000000</td>\n",
       "      <td>0.087010</td>\n",
       "      <td>0.113725</td>\n",
       "      <td>0.013410</td>\n",
       "      <td>0.113402</td>\n",
       "      <td>0.250000</td>\n",
       "      <td>0.000000</td>\n",
       "      <td>0.000000</td>\n",
       "      <td>0.250000</td>\n",
       "      <td>0.055186</td>\n",
       "    </tr>\n",
       "    <tr>\n",
       "      <th>50%</th>\n",
       "      <td>0.166667</td>\n",
       "      <td>0.000000</td>\n",
       "      <td>0.727273</td>\n",
       "      <td>0.000000</td>\n",
       "      <td>0.179345</td>\n",
       "      <td>0.215686</td>\n",
       "      <td>0.042146</td>\n",
       "      <td>0.216495</td>\n",
       "      <td>0.500000</td>\n",
       "      <td>0.000000</td>\n",
       "      <td>0.000000</td>\n",
       "      <td>0.375000</td>\n",
       "      <td>0.108168</td>\n",
       "    </tr>\n",
       "    <tr>\n",
       "      <th>75%</th>\n",
       "      <td>0.333333</td>\n",
       "      <td>0.000000</td>\n",
       "      <td>0.795455</td>\n",
       "      <td>0.200000</td>\n",
       "      <td>0.380954</td>\n",
       "      <td>0.376471</td>\n",
       "      <td>0.172414</td>\n",
       "      <td>0.350515</td>\n",
       "      <td>0.500000</td>\n",
       "      <td>0.000000</td>\n",
       "      <td>0.000000</td>\n",
       "      <td>0.375000</td>\n",
       "      <td>0.365860</td>\n",
       "    </tr>\n",
       "    <tr>\n",
       "      <th>max</th>\n",
       "      <td>1.000000</td>\n",
       "      <td>1.000000</td>\n",
       "      <td>1.000000</td>\n",
       "      <td>1.000000</td>\n",
       "      <td>1.000000</td>\n",
       "      <td>1.000000</td>\n",
       "      <td>1.000000</td>\n",
       "      <td>1.000000</td>\n",
       "      <td>1.000000</td>\n",
       "      <td>1.000000</td>\n",
       "      <td>1.000000</td>\n",
       "      <td>1.000000</td>\n",
       "      <td>1.000000</td>\n",
       "    </tr>\n",
       "  </tbody>\n",
       "</table>\n",
       "</div>"
      ]
     },
     "execution_count": 13,
     "metadata": {},
     "output_type": "execute_result"
    }
   ],
   "execution_count": 13
  },
  {
   "metadata": {
    "ExecuteTime": {
     "end_time": "2025-05-07T14:32:30.037028Z",
     "start_time": "2025-05-07T14:32:30.015355Z"
    }
   },
   "cell_type": "code",
   "source": [
    "from sklearn.decomposition import PCA\n",
    "modelo = PCA(n_components=12)\n",
    "df_sin_duplicados_sin_quejas = df_sin_duplicados.drop(columns=['Complains'])\n",
    "scaler.fit(df_sin_duplicados_sin_quejas)\n",
    "df_normalizado = scaler.transform(df_sin_duplicados_sin_quejas)\n",
    "modelo.fit(df_sin_duplicados_sin_quejas)\n",
    "# modelo.transform(df_sin_duplicados_sin_quejas)\n",
    "PCA_datos = pd.DataFrame(data=modelo.transform(df_sin_duplicados_sin_quejas))\n"
   ],
   "id": "4b8b3c1fddadb769",
   "outputs": [],
   "execution_count": 14
  },
  {
   "metadata": {
    "ExecuteTime": {
     "end_time": "2025-05-07T14:32:30.160022Z",
     "start_time": "2025-05-07T14:32:30.150878Z"
    }
   },
   "cell_type": "code",
   "source": "df_sin_duplicados_sin_quejas.shape",
   "id": "36660009dcdebd2e",
   "outputs": [
    {
     "data": {
      "text/plain": [
       "(2836, 12)"
      ]
     },
     "execution_count": 15,
     "metadata": {},
     "output_type": "execute_result"
    }
   ],
   "execution_count": 15
  },
  {
   "metadata": {
    "ExecuteTime": {
     "end_time": "2025-05-07T14:32:30.415844Z",
     "start_time": "2025-05-07T14:32:30.407454Z"
    }
   },
   "cell_type": "code",
   "source": "print(modelo.explained_variance_ratio_)",
   "id": "791a767aab49dca1",
   "outputs": [
    {
     "name": "stdout",
     "output_type": "stream",
     "text": [
      "[9.86939591e-01 1.29865084e-02 3.70631811e-05 2.19743509e-05\n",
      " 6.86003129e-06 4.23776072e-06 1.97130114e-06 1.72125847e-06\n",
      " 6.10086814e-08 5.83445032e-09 3.47840499e-09 2.33165675e-09]\n"
     ]
    }
   ],
   "execution_count": 16
  },
  {
   "metadata": {
    "ExecuteTime": {
     "end_time": "2025-05-07T14:32:31.180964Z",
     "start_time": "2025-05-07T14:32:30.729828Z"
    }
   },
   "cell_type": "code",
   "source": [
    "plt.plot(modelo.explained_variance_ratio_.cumsum())\n",
    "plt.xlabel('number of components')\n",
    "plt.ylabel('cumulative explained variance')"
   ],
   "id": "15883fe38a897381",
   "outputs": [
    {
     "data": {
      "text/plain": [
       "Text(0, 0.5, 'cumulative explained variance')"
      ]
     },
     "execution_count": 17,
     "metadata": {},
     "output_type": "execute_result"
    },
    {
     "data": {
      "text/plain": [
       "<Figure size 640x480 with 1 Axes>"
      ],
      "image/png": "[encoded data removed]"
     },
     "metadata": {},
     "output_type": "display_data"
    }
   ],
   "execution_count": 17
  },
  {
   "metadata": {
    "ExecuteTime": {
     "end_time": "2025-05-07T14:34:14.426896Z",
     "start_time": "2025-05-07T14:34:14.406927Z"
    }
   },
   "cell_type": "code",
   "source": [
    "from sklearn.decomposition import PCA\n",
    "modelo = PCA(n_components=0.95)\n",
    "df_sin_duplicados_sin_quejas = df_sin_duplicados.drop(columns=['Complains'])\n",
    "scaler.fit(df_sin_duplicados_sin_quejas)\n",
    "df_normalizado = scaler.transform(df_sin_duplicados_sin_quejas)\n",
    "modelo.fit(df_sin_duplicados_sin_quejas)\n",
    "modelo.transform(df_sin_duplicados_sin_quejas)"
   ],
   "id": "2cb9278f1a005b62",
   "outputs": [
    {
     "data": {
      "text/plain": [
       "array([[ -199.92817781],\n",
       "       [-4254.94490166],\n",
       "       [-2046.18361439],\n",
       "       ...,\n",
       "       [-2779.92452685],\n",
       "       [ 6160.72789517],\n",
       "       [-3639.75701676]], shape=(2836, 1))"
      ]
     },
     "execution_count": 22,
     "metadata": {},
     "output_type": "execute_result"
    }
   ],
   "execution_count": 22
  },
  {
   "metadata": {
    "ExecuteTime": {
     "end_time": "2025-05-07T14:34:27.692827Z",
     "start_time": "2025-05-07T14:34:27.683255Z"
    }
   },
   "cell_type": "code",
   "source": "df_sin_duplicados['Complains']",
   "id": "5e81e9501e7fc76d",
   "outputs": [
    {
     "data": {
      "text/plain": [
       "0       0\n",
       "1       0\n",
       "2       0\n",
       "3       0\n",
       "4       0\n",
       "       ..\n",
       "3096    0\n",
       "3097    0\n",
       "3099    1\n",
       "3123    0\n",
       "3131    1\n",
       "Name: Complains, Length: 2836, dtype: int64"
      ]
     },
     "execution_count": 23,
     "metadata": {},
     "output_type": "execute_result"
    }
   ],
   "execution_count": 23
  },
  {
   "metadata": {
    "ExecuteTime": {
     "end_time": "2025-05-07T14:48:13.336836Z",
     "start_time": "2025-05-07T14:48:13.294589Z"
    }
   },
   "cell_type": "code",
   "source": [
    "PCA_datos = pd.concat([pd.DataFrame(modelo.transform(df_sin_duplicados_sin_quejas)),df_sin_duplicados['Complains'].reset_index(drop=True)],axis=1)\n",
    "PCA_datos"
   ],
   "id": "977a58a61d156fdd",
   "outputs": [
    {
     "data": {
      "text/plain": [
       "                0  Complains\n",
       "0     -199.928178          0\n",
       "1    -4254.944902          0\n",
       "2    -2046.183614          0\n",
       "3     -369.586777          0\n",
       "4    -2176.989511          0\n",
       "...           ...        ...\n",
       "2831  4665.294520          0\n",
       "2832 -1407.285399          0\n",
       "2833 -2779.924527          1\n",
       "2834  6160.727895          0\n",
       "2835 -3639.757017          1\n",
       "\n",
       "[2836 rows x 2 columns]"
      ],
      "text/html": [
       "<div>\n",
       "<style scoped>\n",
       "    .dataframe tbody tr th:only-of-type {\n",
       "        vertical-align: middle;\n",
       "    }\n",
       "\n",
       "    .dataframe tbody tr th {\n",
       "        vertical-align: top;\n",
       "    }\n",
       "\n",
       "    .dataframe thead th {\n",
       "        text-align: right;\n",
       "    }\n",
       "</style>\n",
       "<table border=\"1\" class=\"dataframe\">\n",
       "  <thead>\n",
       "    <tr style=\"text-align: right;\">\n",
       "      <th></th>\n",
       "      <th>0</th>\n",
       "      <th>Complains</th>\n",
       "    </tr>\n",
       "  </thead>\n",
       "  <tbody>\n",
       "    <tr>\n",
       "      <th>0</th>\n",
       "      <td>-199.928178</td>\n",
       "      <td>0</td>\n",
       "    </tr>\n",
       "    <tr>\n",
       "      <th>1</th>\n",
       "      <td>-4254.944902</td>\n",
       "      <td>0</td>\n",
       "    </tr>\n",
       "    <tr>\n",
       "      <th>2</th>\n",
       "      <td>-2046.183614</td>\n",
       "      <td>0</td>\n",
       "    </tr>\n",
       "    <tr>\n",
       "      <th>3</th>\n",
       "      <td>-369.586777</td>\n",
       "      <td>0</td>\n",
       "    </tr>\n",
       "    <tr>\n",
       "      <th>4</th>\n",
       "      <td>-2176.989511</td>\n",
       "      <td>0</td>\n",
       "    </tr>\n",
       "    <tr>\n",
       "      <th>...</th>\n",
       "      <td>...</td>\n",
       "      <td>...</td>\n",
       "    </tr>\n",
       "    <tr>\n",
       "      <th>2831</th>\n",
       "      <td>4665.294520</td>\n",
       "      <td>0</td>\n",
       "    </tr>\n",
       "    <tr>\n",
       "      <th>2832</th>\n",
       "      <td>-1407.285399</td>\n",
       "      <td>0</td>\n",
       "    </tr>\n",
       "    <tr>\n",
       "      <th>2833</th>\n",
       "      <td>-2779.924527</td>\n",
       "      <td>1</td>\n",
       "    </tr>\n",
       "    <tr>\n",
       "      <th>2834</th>\n",
       "      <td>6160.727895</td>\n",
       "      <td>0</td>\n",
       "    </tr>\n",
       "    <tr>\n",
       "      <th>2835</th>\n",
       "      <td>-3639.757017</td>\n",
       "      <td>1</td>\n",
       "    </tr>\n",
       "  </tbody>\n",
       "</table>\n",
       "<p>2836 rows × 2 columns</p>\n",
       "</div>"
      ]
     },
     "execution_count": 58,
     "metadata": {},
     "output_type": "execute_result"
    }
   ],
   "execution_count": 58
  },
  {
   "metadata": {
    "ExecuteTime": {
     "end_time": "2025-05-07T14:48:30.243689Z",
     "start_time": "2025-05-07T14:48:30.227219Z"
    }
   },
   "cell_type": "code",
   "source": [
    "# Imprimo los datos a un CSV\n",
    "PCA_datos.to_csv('./PCA_datos.csv', index=False)"
   ],
   "id": "431d104b87fa7bc",
   "outputs": [],
   "execution_count": 59
  },
  {
   "metadata": {
    "ExecuteTime": {
     "end_time": "2025-05-07T14:32:31.423809Z",
     "start_time": "2025-05-07T09:02:12.007082Z"
    }
   },
   "cell_type": "code",
   "source": "pd_final = pd.concat([PCA_datos,df_sin_duplicados['Complains']])",
   "id": "6306bcca552c8b67",
   "outputs": [],
   "execution_count": 15
  },
  {
   "metadata": {
    "ExecuteTime": {
     "end_time": "2025-05-07T14:32:31.445807700Z",
     "start_time": "2025-05-07T12:55:13.082377Z"
    }
   },
   "cell_type": "code",
   "source": "df_sin_duplicados",
   "id": "76f9936dfe08e8c6",
   "outputs": [
    {
     "data": {
      "text/plain": [
       "      Call  Failure  Complains  Subscription  Length  Charge  Amount  \\\n",
       "0                 8          0                    38               0   \n",
       "1                 0          0                    39               0   \n",
       "2                10          0                    37               0   \n",
       "3                10          0                    38               0   \n",
       "4                 3          0                    38               0   \n",
       "...             ...        ...                   ...             ...   \n",
       "3096             17          0                    17               1   \n",
       "3097             13          0                    18               4   \n",
       "3099              8          1                    11               2   \n",
       "3123             26          0                    38               9   \n",
       "3131              5          1                    38               0   \n",
       "\n",
       "      Seconds of Use  Frequency of use  Frequency of SMS  \\\n",
       "0               4370                71                 5   \n",
       "1                318                 5                 7   \n",
       "2               2453                60               359   \n",
       "3               4198                66                 1   \n",
       "4               2393                58                 2   \n",
       "...              ...               ...               ...   \n",
       "3096            9237               177                80   \n",
       "3097            3157                51                38   \n",
       "3099            1792                25                 7   \n",
       "3123           10740                99                 8   \n",
       "3131             933                13                16   \n",
       "\n",
       "      Distinct Called Numbers  Age Group  Tariff Plan  Status  Age  \\\n",
       "0                          17          3            1       1   30   \n",
       "1                           4          2            1       2   25   \n",
       "2                          24          3            1       1   30   \n",
       "3                          35          1            1       1   15   \n",
       "4                          33          1            1       1   15   \n",
       "...                       ...        ...          ...     ...  ...   \n",
       "3096                       42          5            1       1   55   \n",
       "3097                       21          3            1       1   30   \n",
       "3099                        9          3            1       1   30   \n",
       "3123                       44          5            2       1   55   \n",
       "3131                        6          4            1       2   45   \n",
       "\n",
       "      Customer Value  \n",
       "0            197.640  \n",
       "1             46.035  \n",
       "2           1536.520  \n",
       "3            240.020  \n",
       "4            145.805  \n",
       "...              ...  \n",
       "3096         261.210  \n",
       "3097         280.320  \n",
       "3099         100.680  \n",
       "3123         174.585  \n",
       "3131          63.650  \n",
       "\n",
       "[2836 rows x 13 columns]"
      ],
      "text/html": [
       "<div>\n",
       "<style scoped>\n",
       "    .dataframe tbody tr th:only-of-type {\n",
       "        vertical-align: middle;\n",
       "    }\n",
       "\n",
       "    .dataframe tbody tr th {\n",
       "        vertical-align: top;\n",
       "    }\n",
       "\n",
       "    .dataframe thead th {\n",
       "        text-align: right;\n",
       "    }\n",
       "</style>\n",
       "<table border=\"1\" class=\"dataframe\">\n",
       "  <thead>\n",
       "    <tr style=\"text-align: right;\">\n",
       "      <th></th>\n",
       "      <th>Call  Failure</th>\n",
       "      <th>Complains</th>\n",
       "      <th>Subscription  Length</th>\n",
       "      <th>Charge  Amount</th>\n",
       "      <th>Seconds of Use</th>\n",
       "      <th>Frequency of use</th>\n",
       "      <th>Frequency of SMS</th>\n",
       "      <th>Distinct Called Numbers</th>\n",
       "      <th>Age Group</th>\n",
       "      <th>Tariff Plan</th>\n",
       "      <th>Status</th>\n",
       "      <th>Age</th>\n",
       "      <th>Customer Value</th>\n",
       "    </tr>\n",
       "  </thead>\n",
       "  <tbody>\n",
       "    <tr>\n",
       "      <th>0</th>\n",
       "      <td>8</td>\n",
       "      <td>0</td>\n",
       "      <td>38</td>\n",
       "      <td>0</td>\n",
       "      <td>4370</td>\n",
       "      <td>71</td>\n",
       "      <td>5</td>\n",
       "      <td>17</td>\n",
       "      <td>3</td>\n",
       "      <td>1</td>\n",
       "      <td>1</td>\n",
       "      <td>30</td>\n",
       "      <td>197.640</td>\n",
       "    </tr>\n",
       "    <tr>\n",
       "      <th>1</th>\n",
       "      <td>0</td>\n",
       "      <td>0</td>\n",
       "      <td>39</td>\n",
       "      <td>0</td>\n",
       "      <td>318</td>\n",
       "      <td>5</td>\n",
       "      <td>7</td>\n",
       "      <td>4</td>\n",
       "      <td>2</td>\n",
       "      <td>1</td>\n",
       "      <td>2</td>\n",
       "      <td>25</td>\n",
       "      <td>46.035</td>\n",
       "    </tr>\n",
       "    <tr>\n",
       "      <th>2</th>\n",
       "      <td>10</td>\n",
       "      <td>0</td>\n",
       "      <td>37</td>\n",
       "      <td>0</td>\n",
       "      <td>2453</td>\n",
       "      <td>60</td>\n",
       "      <td>359</td>\n",
       "      <td>24</td>\n",
       "      <td>3</td>\n",
       "      <td>1</td>\n",
       "      <td>1</td>\n",
       "      <td>30</td>\n",
       "      <td>1536.520</td>\n",
       "    </tr>\n",
       "    <tr>\n",
       "      <th>3</th>\n",
       "      <td>10</td>\n",
       "      <td>0</td>\n",
       "      <td>38</td>\n",
       "      <td>0</td>\n",
       "      <td>4198</td>\n",
       "      <td>66</td>\n",
       "      <td>1</td>\n",
       "      <td>35</td>\n",
       "      <td>1</td>\n",
       "      <td>1</td>\n",
       "      <td>1</td>\n",
       "      <td>15</td>\n",
       "      <td>240.020</td>\n",
       "    </tr>\n",
       "    <tr>\n",
       "      <th>4</th>\n",
       "      <td>3</td>\n",
       "      <td>0</td>\n",
       "      <td>38</td>\n",
       "      <td>0</td>\n",
       "      <td>2393</td>\n",
       "      <td>58</td>\n",
       "      <td>2</td>\n",
       "      <td>33</td>\n",
       "      <td>1</td>\n",
       "      <td>1</td>\n",
       "      <td>1</td>\n",
       "      <td>15</td>\n",
       "      <td>145.805</td>\n",
       "    </tr>\n",
       "    <tr>\n",
       "      <th>...</th>\n",
       "      <td>...</td>\n",
       "      <td>...</td>\n",
       "      <td>...</td>\n",
       "      <td>...</td>\n",
       "      <td>...</td>\n",
       "      <td>...</td>\n",
       "      <td>...</td>\n",
       "      <td>...</td>\n",
       "      <td>...</td>\n",
       "      <td>...</td>\n",
       "      <td>...</td>\n",
       "      <td>...</td>\n",
       "      <td>...</td>\n",
       "    </tr>\n",
       "    <tr>\n",
       "      <th>3096</th>\n",
       "      <td>17</td>\n",
       "      <td>0</td>\n",
       "      <td>17</td>\n",
       "      <td>1</td>\n",
       "      <td>9237</td>\n",
       "      <td>177</td>\n",
       "      <td>80</td>\n",
       "      <td>42</td>\n",
       "      <td>5</td>\n",
       "      <td>1</td>\n",
       "      <td>1</td>\n",
       "      <td>55</td>\n",
       "      <td>261.210</td>\n",
       "    </tr>\n",
       "    <tr>\n",
       "      <th>3097</th>\n",
       "      <td>13</td>\n",
       "      <td>0</td>\n",
       "      <td>18</td>\n",
       "      <td>4</td>\n",
       "      <td>3157</td>\n",
       "      <td>51</td>\n",
       "      <td>38</td>\n",
       "      <td>21</td>\n",
       "      <td>3</td>\n",
       "      <td>1</td>\n",
       "      <td>1</td>\n",
       "      <td>30</td>\n",
       "      <td>280.320</td>\n",
       "    </tr>\n",
       "    <tr>\n",
       "      <th>3099</th>\n",
       "      <td>8</td>\n",
       "      <td>1</td>\n",
       "      <td>11</td>\n",
       "      <td>2</td>\n",
       "      <td>1792</td>\n",
       "      <td>25</td>\n",
       "      <td>7</td>\n",
       "      <td>9</td>\n",
       "      <td>3</td>\n",
       "      <td>1</td>\n",
       "      <td>1</td>\n",
       "      <td>30</td>\n",
       "      <td>100.680</td>\n",
       "    </tr>\n",
       "    <tr>\n",
       "      <th>3123</th>\n",
       "      <td>26</td>\n",
       "      <td>0</td>\n",
       "      <td>38</td>\n",
       "      <td>9</td>\n",
       "      <td>10740</td>\n",
       "      <td>99</td>\n",
       "      <td>8</td>\n",
       "      <td>44</td>\n",
       "      <td>5</td>\n",
       "      <td>2</td>\n",
       "      <td>1</td>\n",
       "      <td>55</td>\n",
       "      <td>174.585</td>\n",
       "    </tr>\n",
       "    <tr>\n",
       "      <th>3131</th>\n",
       "      <td>5</td>\n",
       "      <td>1</td>\n",
       "      <td>38</td>\n",
       "      <td>0</td>\n",
       "      <td>933</td>\n",
       "      <td>13</td>\n",
       "      <td>16</td>\n",
       "      <td>6</td>\n",
       "      <td>4</td>\n",
       "      <td>1</td>\n",
       "      <td>2</td>\n",
       "      <td>45</td>\n",
       "      <td>63.650</td>\n",
       "    </tr>\n",
       "  </tbody>\n",
       "</table>\n",
       "<p>2836 rows × 13 columns</p>\n",
       "</div>"
      ]
     },
     "execution_count": 28,
     "metadata": {},
     "output_type": "execute_result"
    }
   ],
   "execution_count": 28
  },
  {
   "metadata": {
    "ExecuteTime": {
     "end_time": "2025-05-07T14:32:31.449809200Z",
     "start_time": "2025-05-07T09:02:12.400055Z"
    }
   },
   "cell_type": "code",
   "source": [
    "#Visualización\n",
    "\n",
    "fig = plt.figure(figsize = (8,8))\n",
    "ax = fig.add_subplot(1,1,1)\n",
    "\n",
    "indices_a_dibujar = (pd_final['Complains'] == 0 ) | (pd_final['Complains'] == 1)\n",
    "ax.scatter(pd_final.loc[indices_a_dibujar, 0], pd_final.loc[indices_a_dibujar, \"Complains\"], c=pd_final.loc[indices_a_dibujar, \"Complains\"], cmap='viridis', alpha=0.5)\n",
    "indices_a_dibujar = pd_final['Complains'] == 1\n",
    "ax.scatter(pd_final.loc[indices_a_dibujar, 0], pd_final.loc[indices_a_dibujar, \"Complains\"])\n",
    "\n",
    "ax.grid()\n"
   ],
   "id": "3a8e0e603921d92a",
   "outputs": [
    {
     "data": {
      "text/plain": [
       "<Figure size 800x800 with 1 Axes>"
      ],
      "image/png": "[encoded data removed]"
     },
     "metadata": {},
     "output_type": "display_data"
    }
   ],
   "execution_count": 17
  },
  {
   "metadata": {},
   "cell_type": "markdown",
   "source": "",
   "id": "5b7dd2079f149fa0"
  },
  {
   "metadata": {
    "ExecuteTime": {
     "end_time": "2025-05-07T14:32:31.460805800Z",
     "start_time": "2025-05-07T09:02:12.931986Z"
    }
   },
   "cell_type": "code",
   "source": "",
   "id": "9545b86333c9cdd3",
   "outputs": [],
   "execution_count": null
  },
  {
   "metadata": {},
   "cell_type": "code",
   "outputs": [],
   "execution_count": null,
   "source": "",
   "id": "ee9011c1c84694ae"
  }
 ],
 "metadata": {
  "kernelspec": {
   "display_name": "Python 3",
   "language": "python",
   "name": "python3"
  },
  "language_info": {
   "codemirror_mode": {
    "name": "ipython",
    "version": 2
   },
   "file_extension": ".py",
   "mimetype": "text/x-python",
   "name": "python",
   "nbconvert_exporter": "python",
   "pygments_lexer": "ipython2",
   "version": "2.7.6"
  }
 },
 "nbformat": 4,
 "nbformat_minor": 5
}
